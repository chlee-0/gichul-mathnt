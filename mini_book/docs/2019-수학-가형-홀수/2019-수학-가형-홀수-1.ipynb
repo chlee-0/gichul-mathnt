{
  "nbformat": 4,
  "nbformat_minor": 0,
  "metadata": {
    "kernelspec": {
      "display_name": "Python 3",
      "language": "python",
      "name": "python3"
    },
    "language_info": {
      "codemirror_mode": {
        "name": "ipython",
        "version": 3
      },
      "file_extension": ".py",
      "mimetype": "text/x-python",
      "name": "python",
      "nbconvert_exporter": "python",
      "pygments_lexer": "ipython3",
      "version": "3.8.5"
    },
    "colab": {
      "name": "2019-수학-가형-홀수-1.ipynb",
      "provenance": []
    }
  },
  "cells": [
    {
      "cell_type": "markdown",
      "metadata": {
        "id": "9eD-OaPGqd8U"
      },
      "source": [
        "# 2019-수학-가형-홀수-1"
      ]
    },
    {
      "cell_type": "markdown",
      "metadata": {
        "id": "xxdcKY5Yqd8k"
      },
      "source": [
        "## 문제\n",
        "![2019-수학-가형-홀수-1](https://wiki.mathnt.net/img_auth.php/7/70/4e539c44374068518e9338961343274ee2020e13.png)"
      ]
    },
    {
      "cell_type": "markdown",
      "metadata": {
        "id": "Tlk0Uzbzqd8m"
      },
      "source": [
        "## 풀이"
      ]
    },
    {
      "cell_type": "code",
      "metadata": {
        "id": "uS7regV7qhFJ"
      },
      "source": [
        "%%capture\r\n",
        "!pip install --upgrade sympy watermark"
      ],
      "execution_count": 1,
      "outputs": []
    },
    {
      "cell_type": "code",
      "metadata": {
        "id": "asA91iz7qd8m",
        "colab": {
          "base_uri": "https://localhost:8080/",
          "height": 36
        },
        "outputId": "037dc5d5-82ee-410d-d903-21a17d705631"
      },
      "source": [
        "from sympy import *\n",
        "\n",
        "a = Point(1,-2)\n",
        "b = Point(-1,4)\n",
        "c=a+2*b\n",
        "sum(c)"
      ],
      "execution_count": 2,
      "outputs": [
        {
          "output_type": "execute_result",
          "data": {
            "text/latex": "$\\displaystyle 5$",
            "text/plain": [
              "5"
            ]
          },
          "metadata": {
            "tags": []
          },
          "execution_count": 2
        }
      ]
    },
    {
      "cell_type": "markdown",
      "metadata": {
        "id": "O0PK1_Hrn-1J"
      },
      "source": [
        "##실행환경"
      ]
    },
    {
      "cell_type": "code",
      "metadata": {
        "colab": {
          "base_uri": "https://localhost:8080/"
        },
        "id": "F0CQrq8feEZ-",
        "outputId": "3dc4f417-b056-4774-909a-a6d600d4baab"
      },
      "source": [
        "%load_ext watermark\r\n",
        "%watermark --iversions"
      ],
      "execution_count": 3,
      "outputs": [
        {
          "output_type": "stream",
          "text": [
            "sympy.multipledispatch 0.4.9\n",
            "sympy.release          1.7.1\n",
            "\n"
          ],
          "name": "stdout"
        }
      ]
    }
  ]
}