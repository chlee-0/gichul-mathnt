{
 "cells": [
  {
   "cell_type": "markdown",
   "metadata": {},
   "source": [
    "# 2019-수학-가형-홀수-12"
   ]
  },
  {
   "cell_type": "markdown",
   "metadata": {},
   "source": [
    "## 문제\n",
    "![local](../../_static/thumb/34a63b4a5d9b26ed8fb26f653e2e42bbd9ef8785.png)"
   ]
  },
  {
   "cell_type": "markdown",
   "metadata": {},
   "source": [
    "## 풀이"
   ]
  },
  {
   "cell_type": "code",
   "execution_count": 1,
   "metadata": {},
   "outputs": [
    {
     "name": "stdout",
     "output_type": "stream",
     "text": [
      "[2, 1, 1, 4]\n",
      "[2, 1, 2, 3]\n",
      "[2, 1, 3, 2]\n",
      "[2, 1, 4, 1]\n",
      "[3, 1, 1, 3]\n",
      "[3, 1, 2, 2]\n",
      "[3, 1, 3, 1]\n",
      "[3, 2, 1, 2]\n",
      "[3, 2, 2, 1]\n",
      "[4, 1, 1, 2]\n",
      "[4, 1, 2, 1]\n",
      "[4, 2, 1, 1]\n",
      "[5, 1, 1, 1]\n"
     ]
    }
   ],
   "source": [
    "result = []\n",
    "for a in range(1,9):\n",
    "    for b in range(1,9):\n",
    "        for c in range(1,9):\n",
    "            for d in range(1,9):\n",
    "                if a+b+c+d ==8 and a>b :\n",
    "                    print([a,b,c,d])\n",
    "                    result.append([a,b,c,d]) "
   ]
  },
  {
   "cell_type": "code",
   "execution_count": 2,
   "metadata": {},
   "outputs": [
    {
     "data": {
      "text/plain": [
       "13"
      ]
     },
     "execution_count": 2,
     "metadata": {},
     "output_type": "execute_result"
    }
   ],
   "source": [
    "len(result)"
   ]
  },
  {
   "cell_type": "code",
   "execution_count": null,
   "metadata": {},
   "outputs": [],
   "source": []
  }
 ],
 "metadata": {
  "kernelspec": {
   "display_name": "Python 3",
   "language": "python",
   "name": "python3"
  },
  "language_info": {
   "codemirror_mode": {
    "name": "ipython",
    "version": 3
   },
   "file_extension": ".py",
   "mimetype": "text/x-python",
   "name": "python",
   "nbconvert_exporter": "python",
   "pygments_lexer": "ipython3",
   "version": "3.8.5"
  }
 },
 "nbformat": 4,
 "nbformat_minor": 2
}
