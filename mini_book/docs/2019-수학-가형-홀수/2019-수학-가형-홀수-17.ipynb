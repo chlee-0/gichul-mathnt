{
  "nbformat": 4,
  "nbformat_minor": 0,
  "metadata": {
    "kernelspec": {
      "display_name": "Python 3",
      "language": "python",
      "name": "python3"
    },
    "language_info": {
      "codemirror_mode": {
        "name": "ipython",
        "version": 3
      },
      "file_extension": ".py",
      "mimetype": "text/x-python",
      "name": "python",
      "nbconvert_exporter": "python",
      "pygments_lexer": "ipython3",
      "version": "3.7.3"
    },
    "colab": {
      "name": "2019-수학-가형-홀수-17.ipynb",
      "provenance": []
    }
  },
  "cells": [
    {
      "cell_type": "markdown",
      "metadata": {
        "id": "f271e6KwSCOs"
      },
      "source": [
        "# 2019-수학-가형-홀수-17"
      ]
    },
    {
      "cell_type": "markdown",
      "metadata": {
        "id": "68Wvc5N2SCS7"
      },
      "source": [
        "## 문제\n",
        "![2019-수학-가형-홀수-17](https://wiki.mathnt.net/img_auth.php/8/88/3ddad4729a2ddf7630ec9e39634317eb422a65a9.png)"
      ]
    },
    {
      "cell_type": "markdown",
      "metadata": {
        "id": "WdrmBUteSCS-"
      },
      "source": [
        "## 풀이"
      ]
    },
    {
      "cell_type": "code",
      "metadata": {
        "id": "X0nCJHv_SCTA"
      },
      "source": [
        "from sympy import *\r\n",
        "from sympy.functions.combinatorial.numbers import nC"
      ],
      "execution_count": 1,
      "outputs": []
    },
    {
      "cell_type": "code",
      "metadata": {
        "id": "Od0DM6VpSbXb",
        "outputId": "8bdc4a37-e262-4179-cfed-a771f8b38c5a",
        "colab": {
          "base_uri": "https://localhost:8080/"
        }
      },
      "source": [
        "p = nC(6,5)\r\n",
        "q = 5\r\n",
        "r = factorial(5)\r\n",
        "p+q+r"
      ],
      "execution_count": 2,
      "outputs": [
        {
          "output_type": "execute_result",
          "data": {
            "text/plain": [
              "131"
            ]
          },
          "metadata": {
            "tags": []
          },
          "execution_count": 2
        }
      ]
    },
    {
      "cell_type": "code",
      "metadata": {
        "id": "8VAVUiCETAeX"
      },
      "source": [
        ""
      ],
      "execution_count": 2,
      "outputs": []
    }
  ]
}