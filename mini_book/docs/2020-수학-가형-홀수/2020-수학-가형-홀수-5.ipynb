{
 "cells": [
  {
   "cell_type": "markdown",
   "metadata": {},
   "source": [
    "# 2020-수학-가형-홀수-5"
   ]
  },
  {
   "cell_type": "markdown",
   "metadata": {},
   "source": [
    "## 문제\n",
    "![2020-수학-가형-홀수-5](https://wiki.mathnt.net/img_auth.php/7/7f/C66239b3add039a18e83bee82daa0421eb0c3480.png)"
   ]
  },
  {
   "cell_type": "markdown",
   "metadata": {},
   "source": [
    "## 풀이"
   ]
  },
  {
   "cell_type": "code",
   "execution_count": 1,
   "metadata": {},
   "outputs": [
    {
     "data": {
      "text/latex": [
       "$\\displaystyle - 3 x \\frac{d}{d x} y{\\left(x \\right)} + 2 x + 2 y{\\left(x \\right)} \\frac{d}{d x} y{\\left(x \\right)} - 3 y{\\left(x \\right)} - 1$"
      ],
      "text/plain": [
       "-3*x*Derivative(y(x), x) + 2*x + 2*y(x)*Derivative(y(x), x) - 3*y(x) - 1"
      ]
     },
     "execution_count": 1,
     "metadata": {},
     "output_type": "execute_result"
    }
   ],
   "source": [
    "from sympy import * \n",
    "\n",
    "x = symbols('x')\n",
    "y = Function('y')(x)\n",
    "\n",
    "expr = x**2-3*x*y+y**2-x\n",
    "\n",
    "d_eq = diff(expr, x)\n",
    "\n",
    "d_eq"
   ]
  },
  {
   "cell_type": "code",
   "execution_count": 2,
   "metadata": {},
   "outputs": [
    {
     "data": {
      "text/latex": [
       "$\\displaystyle \\frac{2 x - 3 y{\\left(x \\right)} - 1}{3 x - 2 y{\\left(x \\right)}}$"
      ],
      "text/plain": [
       "(2*x - 3*y(x) - 1)/(3*x - 2*y(x))"
      ]
     },
     "execution_count": 2,
     "metadata": {},
     "output_type": "execute_result"
    }
   ],
   "source": [
    "roots = solve(d_eq, diff(y, x, 1))\n",
    "dydx = roots[0]\n",
    "dydx"
   ]
  },
  {
   "cell_type": "code",
   "execution_count": 3,
   "metadata": {},
   "outputs": [
    {
     "data": {
      "text/latex": [
       "$\\displaystyle \\frac{1 - 3 y{\\left(1 \\right)}}{3 - 2 y{\\left(1 \\right)}}$"
      ],
      "text/plain": [
       "(1 - 3*y(1))/(3 - 2*y(1))"
      ]
     },
     "execution_count": 3,
     "metadata": {},
     "output_type": "execute_result"
    }
   ],
   "source": [
    "slope = dydx.subs([(x, 1), (Function('y')(x), 0)])\n",
    "slope"
   ]
  },
  {
   "cell_type": "code",
   "execution_count": 4,
   "metadata": {},
   "outputs": [
    {
     "data": {
      "text/latex": [
       "$\\displaystyle \\frac{1}{3}$"
      ],
      "text/plain": [
       "1/3"
      ]
     },
     "execution_count": 4,
     "metadata": {},
     "output_type": "execute_result"
    }
   ],
   "source": [
    "z = symbols('z')\n",
    "dydx = dydx.subs(Function('y')(x), z)\n",
    "slope = dydx.subs([(x, 1), (z, 0)])\n",
    "slope"
   ]
  },
  {
   "cell_type": "code",
   "execution_count": null,
   "metadata": {},
   "outputs": [],
   "source": []
  }
 ],
 "metadata": {
  "kernelspec": {
   "display_name": "Python 3",
   "language": "python",
   "name": "python3"
  },
  "language_info": {
   "codemirror_mode": {
    "name": "ipython",
    "version": 3
   },
   "file_extension": ".py",
   "mimetype": "text/x-python",
   "name": "python",
   "nbconvert_exporter": "python",
   "pygments_lexer": "ipython3",
   "version": "3.7.3"
  }
 },
 "nbformat": 4,
 "nbformat_minor": 2
}
