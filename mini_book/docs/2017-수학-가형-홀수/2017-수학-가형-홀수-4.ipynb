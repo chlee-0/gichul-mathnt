{
  "nbformat": 4,
  "nbformat_minor": 0,
  "metadata": {
    "kernelspec": {
      "display_name": "Python 3",
      "language": "python",
      "name": "python3"
    },
    "language_info": {
      "codemirror_mode": {
        "name": "ipython",
        "version": 3
      },
      "file_extension": ".py",
      "mimetype": "text/x-python",
      "name": "python",
      "nbconvert_exporter": "python",
      "pygments_lexer": "ipython3",
      "version": "3.7.3"
    },
    "colab": {
      "name": "2017-수학-가형-홀수-4.ipynb",
      "provenance": []
    }
  },
  "cells": [
    {
      "cell_type": "markdown",
      "metadata": {
        "id": "aMVZk89fIOJk"
      },
      "source": [
        "# 2017-수학-가형-홀수-4"
      ]
    },
    {
      "cell_type": "markdown",
      "metadata": {
        "id": "6zAKldkEIOJx"
      },
      "source": [
        "## 문제\n",
        "![2017-수학-가형-홀수-4](https://wiki.mathnt.net/img_auth.php/7/79/B289277e8f027e04f92a0cfe91f5daccf73964cd.png)"
      ]
    },
    {
      "cell_type": "markdown",
      "metadata": {
        "id": "zfC4VCE3IOJ0"
      },
      "source": [
        "## 풀이"
      ]
    },
    {
      "cell_type": "code",
      "metadata": {
        "id": "MEf4gO24IOJ1"
      },
      "source": [
        "from random import randint\r\n",
        "from sympy import Rational"
      ],
      "execution_count": 1,
      "outputs": []
    },
    {
      "cell_type": "code",
      "metadata": {
        "id": "0YZcjpMTITjH"
      },
      "source": [
        "def random_subset(s):\r\n",
        "    out = set()\r\n",
        "    for el in s:                                                                                                                    \r\n",
        "        # random coin flip\r\n",
        "        if randint(0, 1) == 0:\r\n",
        "            out.add(el)\r\n",
        "    return out\r\n",
        "\r\n",
        "\r\n",
        "def Prob(S):\r\n",
        "    return Rational(len(S), len(U))\r\n",
        "\r\n",
        "\r\n",
        "def complement(S):\r\n",
        "    # difference between a global universal set U and the given set a\r\n",
        "    return U - S\r\n",
        "\r\n",
        "\r\n",
        "def intersection(a,b):\r\n",
        "    return set(a) & set(b)"
      ],
      "execution_count": 2,
      "outputs": []
    },
    {
      "cell_type": "code",
      "metadata": {
        "id": "pvT621fMIbWh",
        "outputId": "7e5c05af-9fd1-47e1-898d-181f564ce57b",
        "colab": {
          "base_uri": "https://localhost:8080/"
        }
      },
      "source": [
        "U= set(range(1,7))\r\n",
        "Bc = {1,2}\r\n",
        "B=complement(Bc)\r\n",
        "\r\n",
        "count = 0\r\n",
        "while count < 5:\r\n",
        "  Anotfound = True;\r\n",
        "  while Anotfound:\r\n",
        "      A = random_subset(U)\r\n",
        "      Ac = complement(B)\r\n",
        "      if Prob(intersection(A, B)) == Prob(A)*Prob(B) and Rational(Prob(intersection(A, B)), Prob(B)) == Rational(1,2):\r\n",
        "          Anotfound = False;\r\n",
        "          print([\"A found\", A])\r\n",
        "          count+=1\r\n",
        "          break\r\n",
        "  print([\"P(A)*P(B)={ans}\".format(ans = Prob(A)*Prob(B))])\r\n"
      ],
      "execution_count": 3,
      "outputs": [
        {
          "output_type": "stream",
          "text": [
            "['A found', {2, 5, 6}]\n",
            "['P(A)*P(B)=1/3']\n",
            "['A found', {2, 5, 6}]\n",
            "['P(A)*P(B)=1/3']\n",
            "['A found', {2, 4, 5}]\n",
            "['P(A)*P(B)=1/3']\n",
            "['A found', {2, 3, 6}]\n",
            "['P(A)*P(B)=1/3']\n",
            "['A found', {1, 3, 4}]\n",
            "['P(A)*P(B)=1/3']\n"
          ],
          "name": "stdout"
        }
      ]
    },
    {
      "cell_type": "code",
      "metadata": {
        "id": "c8E6bZS3Jzzb"
      },
      "source": [
        ""
      ],
      "execution_count": 3,
      "outputs": []
    }
  ]
}