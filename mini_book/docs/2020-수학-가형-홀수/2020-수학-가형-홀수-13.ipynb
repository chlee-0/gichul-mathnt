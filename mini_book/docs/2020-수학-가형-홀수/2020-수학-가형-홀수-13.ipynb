{
 "cells": [
  {
   "cell_type": "markdown",
   "metadata": {},
   "source": [
    "# 2020-수학-가형-홀수-13"
   ]
  },
  {
   "cell_type": "markdown",
   "metadata": {},
   "source": [
    "## 문제\n",
    "![2020-수학-가형-홀수-13](https://wiki.mathnt.net/img_auth.php/0/0d/83553a33bf52326fec90263650debf8a905e71e1.png)"
   ]
  },
  {
   "cell_type": "markdown",
   "metadata": {},
   "source": [
    "## 풀이"
   ]
  },
  {
   "cell_type": "code",
   "execution_count": 1,
   "metadata": {},
   "outputs": [],
   "source": [
    "from sympy import *\n",
    "\n",
    "a, c, t = symbols('a c t')"
   ]
  },
  {
   "cell_type": "code",
   "execution_count": 2,
   "metadata": {},
   "outputs": [],
   "source": [
    "A = Point(a, 0);\n",
    "F_plus = Point(0, c)\n",
    "F_minus = Point(0,-c)"
   ]
  },
  {
   "cell_type": "code",
   "execution_count": 3,
   "metadata": {},
   "outputs": [
    {
     "data": {
      "text/latex": [
       "$\\displaystyle Point2D\\left(a \\left(1 - t\\right), - c t\\right)$"
      ],
      "text/plain": [
       "Point2D(a*(1 - t), -c*t)"
      ]
     },
     "execution_count": 3,
     "metadata": {},
     "output_type": "execute_result"
    }
   ],
   "source": [
    "B = t*F_minus+(1-t)*A\n",
    "B"
   ]
  },
  {
   "cell_type": "code",
   "execution_count": 4,
   "metadata": {},
   "outputs": [
    {
     "data": {
      "text/latex": [
       "$\\displaystyle Point2D\\left(2 a, c\\right)$"
      ],
      "text/plain": [
       "Point2D(2*a, c)"
      ]
     },
     "execution_count": 4,
     "metadata": {},
     "output_type": "execute_result"
    }
   ],
   "source": [
    "B = B.subs(t,-1)\n",
    "B"
   ]
  },
  {
   "cell_type": "code",
   "execution_count": 5,
   "metadata": {},
   "outputs": [
    {
     "data": {
      "text/plain": [
       "[-a*sqrt(25 - c**2)/5, a*sqrt(25 - c**2)/5]"
      ]
     },
     "execution_count": 5,
     "metadata": {},
     "output_type": "execute_result"
    }
   ],
   "source": [
    "x, y = symbols('x y')\n",
    "ellipse = x**2/a**2+y**2/25-1\n",
    "P_y = c\n",
    "P_x = solve(ellipse.subs(y,P_y),x)\n",
    "P_x"
   ]
  },
  {
   "cell_type": "code",
   "execution_count": 6,
   "metadata": {},
   "outputs": [
    {
     "data": {
      "text/latex": [
       "$\\displaystyle - 2 \\sqrt{a^{2} + c^{2}} + \\sqrt{4 a^{2} + 4 c^{2}} + \\sqrt{\\frac{a^{2} \\left(25 - c^{2}\\right)}{25} + 4 c^{2}} - 2 \\sqrt{a^{2}} + \\sqrt{\\left(- \\frac{a \\sqrt{25 - c^{2}}}{5} + 2 a\\right)^{2}} - 4$"
      ],
      "text/plain": [
       "-2*sqrt(a**2 + c**2) + sqrt(4*a**2 + 4*c**2) + sqrt(a**2*(25 - c**2)/25 + 4*c**2) - 2*sqrt(a**2) + sqrt((-a*sqrt(25 - c**2)/5 + 2*a)**2) - 4"
      ]
     },
     "execution_count": 6,
     "metadata": {},
     "output_type": "execute_result"
    }
   ],
   "source": [
    "P = Point(P_x[1], P_y)\n",
    "length_BPF = B.distance(P)+P.distance(F_minus)+F_minus.distance(B)\n",
    "length_BFA = B.distance(F_plus)+F_plus.distance(A)+A.distance(B)\n",
    "eqn = length_BPF-length_BFA-4\n",
    "eqn"
   ]
  },
  {
   "cell_type": "code",
   "execution_count": 7,
   "metadata": {},
   "outputs": [
    {
     "data": {
      "text/latex": [
       "$\\displaystyle \\frac{\\sqrt{a^{2} \\left(\\sqrt{a^{2}} - 10\\right)^{2}}}{5} + \\frac{\\sqrt{a^{4} - 100 a^{2} + 2500}}{5} - 2 \\sqrt{a^{2}} - 4$"
      ],
      "text/plain": [
       "sqrt(a**2*(sqrt(a**2) - 10)**2)/5 + sqrt(a**4 - 100*a**2 + 2500)/5 - 2*sqrt(a**2) - 4"
      ]
     },
     "execution_count": 7,
     "metadata": {},
     "output_type": "execute_result"
    }
   ],
   "source": [
    "eqn = simplify(eqn.subs(c**2, 25-a**2))\n",
    "eqn"
   ]
  },
  {
   "cell_type": "code",
   "execution_count": 8,
   "metadata": {},
   "outputs": [
    {
     "data": {
      "text/plain": [
       "[-sqrt(15), sqrt(15), 5 + 2*sqrt(15)]"
      ]
     },
     "execution_count": 8,
     "metadata": {},
     "output_type": "execute_result"
    }
   ],
   "source": [
    "val_a = solve(eqn,a)\n",
    "val_a"
   ]
  },
  {
   "cell_type": "code",
   "execution_count": 9,
   "metadata": {},
   "outputs": [
    {
     "data": {
      "text/latex": [
       "$\\displaystyle 5 \\sqrt{6}$"
      ],
      "text/plain": [
       "5*sqrt(6)"
      ]
     },
     "execution_count": 9,
     "metadata": {},
     "output_type": "execute_result"
    }
   ],
   "source": [
    "val_a = sqrt(15)\n",
    "val_c = sqrt(25-a**2).subs(a,val_a)\n",
    "area = val_a*val_c\n",
    "area"
   ]
  },
  {
   "cell_type": "code",
   "execution_count": null,
   "metadata": {},
   "outputs": [],
   "source": []
  }
 ],
 "metadata": {
  "kernelspec": {
   "display_name": "Python 3",
   "language": "python",
   "name": "python3"
  },
  "language_info": {
   "codemirror_mode": {
    "name": "ipython",
    "version": 3
   },
   "file_extension": ".py",
   "mimetype": "text/x-python",
   "name": "python",
   "nbconvert_exporter": "python",
   "pygments_lexer": "ipython3",
   "version": "3.7.3"
  }
 },
 "nbformat": 4,
 "nbformat_minor": 2
}
