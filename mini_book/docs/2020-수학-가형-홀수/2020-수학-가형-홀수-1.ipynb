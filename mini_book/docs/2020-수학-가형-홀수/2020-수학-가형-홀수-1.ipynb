{
 "cells": [
  {
   "cell_type": "markdown",
   "metadata": {
    "id": "KMRejfaMoerw"
   },
   "source": [
    "# 2020-수학-가형-홀수-1"
   ]
  },
  {
   "cell_type": "markdown",
   "metadata": {
    "id": "PHXZqUUToerx"
   },
   "source": [
    "## 문제\n",
    "![2020-수학-가형-홀수-1](https://wiki.mathnt.net/img_auth.php/1/1e/Ae2cbc8b26f2ebe36b1f3a64e78abc9e34eaa73c.png)"
   ]
  },
  {
   "cell_type": "markdown",
   "metadata": {
    "id": "1fhS_4c-oerx"
   },
   "source": [
    "## 풀이"
   ]
  },
  {
   "cell_type": "code",
   "execution_count": 1,
   "metadata": {
    "id": "rZhZEApLoerx"
   },
   "outputs": [],
   "source": [
    "from sympy import *"
   ]
  },
  {
   "cell_type": "code",
   "execution_count": 2,
   "metadata": {
    "colab": {
     "base_uri": "https://localhost:8080/"
    },
    "id": "JBwkU5sKuhvr",
    "outputId": "3aeb9289-a65c-48e4-815a-635173eeae3c"
   },
   "outputs": [
    {
     "data": {
      "text/latex": [
       "$\\displaystyle 5$"
      ],
      "text/plain": [
       "5"
      ]
     },
     "execution_count": 2,
     "metadata": {},
     "output_type": "execute_result"
    }
   ],
   "source": [
    "a = Point(3,1)\n",
    "b = Point(-2,4)\n",
    "c=a+Rational(1,2)*b\n",
    "sum(c[i] for i in range(2))"
   ]
  },
  {
   "cell_type": "code",
   "execution_count": null,
   "metadata": {
    "id": "5fY2z-rEzqh3"
   },
   "outputs": [],
   "source": []
  }
 ],
 "metadata": {
  "colab": {
   "name": "2020-수학-가형-홀수-1.ipynb",
   "provenance": []
  },
  "kernelspec": {
   "display_name": "Python 3",
   "language": "python",
   "name": "python3"
  },
  "language_info": {
   "codemirror_mode": {
    "name": "ipython",
    "version": 3
   },
   "file_extension": ".py",
   "mimetype": "text/x-python",
   "name": "python",
   "nbconvert_exporter": "python",
   "pygments_lexer": "ipython3",
   "version": "3.8.5"
  }
 },
 "nbformat": 4,
 "nbformat_minor": 1
}
