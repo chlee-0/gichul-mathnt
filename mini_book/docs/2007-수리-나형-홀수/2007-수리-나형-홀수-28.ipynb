{
  "nbformat": 4,
  "nbformat_minor": 0,
  "metadata": {
    "kernelspec": {
      "display_name": "Python 3",
      "language": "python",
      "name": "python3"
    },
    "language_info": {
      "codemirror_mode": {
        "name": "ipython",
        "version": 3
      },
      "file_extension": ".py",
      "mimetype": "text/x-python",
      "name": "python",
      "nbconvert_exporter": "python",
      "pygments_lexer": "ipython3",
      "version": "3.7.3"
    },
    "colab": {
      "name": "2007-수리-나형-홀수-28.ipynb",
      "provenance": []
    }
  },
  "cells": [
    {
      "cell_type": "markdown",
      "metadata": {
        "id": "PXY1ev-fEc7_"
      },
      "source": [
        "# 2007-수리-나형-홀수-28"
      ]
    },
    {
      "cell_type": "markdown",
      "metadata": {
        "id": "7UkePAnoEc8L"
      },
      "source": [
        "## 문제\n",
        "![2007-수리-나형-홀수-28](https://wiki.mathnt.net/img_auth.php/f/f0/5b2754e85c47436eea70941231557a4c7bd74ff6.png)"
      ]
    },
    {
      "cell_type": "markdown",
      "metadata": {
        "id": "iTmSb54GEc8O"
      },
      "source": [
        "## 풀이"
      ]
    },
    {
      "cell_type": "code",
      "metadata": {
        "id": "XEj54KAkEc8O"
      },
      "source": [
        "from sympy import Rational\r\n",
        "from itertools import product"
      ],
      "execution_count": 1,
      "outputs": []
    },
    {
      "cell_type": "code",
      "metadata": {
        "id": "fWl3Rxh5E1go"
      },
      "source": [
        "all_possibilities = list(product(\"HT\", repeat=3))\r\n",
        "\r\n",
        "A_list = []\r\n",
        "B_list = []\r\n",
        "count = 0\r\n",
        "for event in all_possibilities:\r\n",
        "    num_heads = sum(1 for i in event if i == \"H\")\r\n",
        "    if num_heads<=1 :\r\n",
        "      A_list.append(event)\r\n",
        "    if num_heads in [0, 3]:\r\n",
        "      B_list.append(event)"
      ],
      "execution_count": 2,
      "outputs": []
    },
    {
      "cell_type": "code",
      "metadata": {
        "id": "Hy5Kj-Z1HbLe"
      },
      "source": [
        "def Prob(S):\r\n",
        "    return Rational(len(S), len(all_possibilities))\r\n",
        "\r\n",
        "\r\n",
        "def intersection(a,b):\r\n",
        "    return set(a) & set(b)"
      ],
      "execution_count": 3,
      "outputs": []
    },
    {
      "cell_type": "code",
      "metadata": {
        "id": "OHYm-hA2FTE0",
        "outputId": "b8f665ce-de97-4e17-a048-171f3fb3b537",
        "colab": {
          "base_uri": "https://localhost:8080/"
        }
      },
      "source": [
        "Prob(A_list) == Rational(1,2)"
      ],
      "execution_count": 4,
      "outputs": [
        {
          "output_type": "execute_result",
          "data": {
            "text/plain": [
              "True"
            ]
          },
          "metadata": {
            "tags": []
          },
          "execution_count": 4
        }
      ]
    },
    {
      "cell_type": "code",
      "metadata": {
        "id": "wR_AJqkoFVOz",
        "outputId": "0613b497-1e3f-462c-a13e-d5d261c73f3f",
        "colab": {
          "base_uri": "https://localhost:8080/"
        }
      },
      "source": [
        "Prob(intersection(A_list, B_list)) == Rational(1,8)"
      ],
      "execution_count": 5,
      "outputs": [
        {
          "output_type": "execute_result",
          "data": {
            "text/plain": [
              "True"
            ]
          },
          "metadata": {
            "tags": []
          },
          "execution_count": 5
        }
      ]
    },
    {
      "cell_type": "code",
      "metadata": {
        "id": "PO04zCK5FWxF",
        "outputId": "0d76916f-1a0a-4d7e-a168-4673ac90c7a0",
        "colab": {
          "base_uri": "https://localhost:8080/"
        }
      },
      "source": [
        "Prob(intersection(A_list, B_list))  == Prob(A_list) * Prob(B_list)"
      ],
      "execution_count": 6,
      "outputs": [
        {
          "output_type": "execute_result",
          "data": {
            "text/plain": [
              "True"
            ]
          },
          "metadata": {
            "tags": []
          },
          "execution_count": 6
        }
      ]
    },
    {
      "cell_type": "code",
      "metadata": {
        "id": "NjnQFpMzG_wB"
      },
      "source": [
        ""
      ],
      "execution_count": 6,
      "outputs": []
    }
  ]
}