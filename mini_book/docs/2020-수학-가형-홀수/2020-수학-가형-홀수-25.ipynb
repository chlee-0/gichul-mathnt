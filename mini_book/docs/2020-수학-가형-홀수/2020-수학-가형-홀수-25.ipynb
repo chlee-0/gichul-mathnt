{
 "cells": [
  {
   "cell_type": "markdown",
   "metadata": {},
   "source": [
    "# 2020-수학-가형-홀수-25"
   ]
  },
  {
   "cell_type": "markdown",
   "metadata": {},
   "source": [
    "## 문제\n",
    "![local](../../_static/thumb/4e0fc37f51fd67cf948c694ec9db16a6b51df830.png)"
   ]
  },
  {
   "cell_type": "markdown",
   "metadata": {},
   "source": [
    "## 풀이"
   ]
  },
  {
   "cell_type": "code",
   "execution_count": 1,
   "metadata": {},
   "outputs": [],
   "source": [
    "from itertools import product\n",
    "from collections import Counter\n",
    "from sympy import Rational\n",
    "from sympy import stats"
   ]
  },
  {
   "cell_type": "code",
   "execution_count": 2,
   "metadata": {},
   "outputs": [
    {
     "data": {
      "text/plain": [
       "Counter({5: 243, 4: 1215, 3: 2430, 2: 2430, 1: 1215, 0: 243})"
      ]
     },
     "execution_count": 2,
     "metadata": {},
     "output_type": "execute_result"
    }
   ],
   "source": [
    "freq_a = []\n",
    "for event in list(product(\"123456\", repeat=5)):\n",
    "    a = sum(1 for i in event if int(i)%2 == 1)\n",
    "    freq_a.append(a)\n",
    "Counter(freq_a)"
   ]
  },
  {
   "cell_type": "code",
   "execution_count": 3,
   "metadata": {},
   "outputs": [
    {
     "data": {
      "text/plain": [
       "{5: 1/32, 4: 5/32, 3: 5/16, 2: 5/16, 1: 5/32, 0: 1/32}"
      ]
     },
     "execution_count": 3,
     "metadata": {},
     "output_type": "execute_result"
    }
   ],
   "source": [
    "pmf_a = dict(Counter(freq_a))\n",
    "for a in pmf_a.keys():\n",
    "    pmf_a.update({a:Rational(pmf_a[a], 6**5)})\n",
    "pmf_a"
   ]
  },
  {
   "cell_type": "code",
   "execution_count": 4,
   "metadata": {},
   "outputs": [
    {
     "data": {
      "text/plain": [
       "Counter({4: 1, 3: 4, 2: 6, 1: 4, 0: 1})"
      ]
     },
     "execution_count": 4,
     "metadata": {},
     "output_type": "execute_result"
    }
   ],
   "source": [
    "freq_b = []\n",
    "for event in list(product(\"HT\", repeat=4)):\n",
    "    b = sum(1 for i in event if i == \"H\")\n",
    "    freq_b.append(b)\n",
    "Counter(freq_b)"
   ]
  },
  {
   "cell_type": "code",
   "execution_count": 5,
   "metadata": {},
   "outputs": [
    {
     "data": {
      "text/plain": [
       "{4: 1/16, 3: 1/4, 2: 3/8, 1: 1/4, 0: 1/16}"
      ]
     },
     "execution_count": 5,
     "metadata": {},
     "output_type": "execute_result"
    }
   ],
   "source": [
    "pmf_b = dict(Counter(freq_b))\n",
    "for b in pmf_b.keys():\n",
    "    pmf_b.update({b:Rational(pmf_b[b],2**4)})\n",
    "pmf_b"
   ]
  },
  {
   "cell_type": "code",
   "execution_count": 6,
   "metadata": {},
   "outputs": [
    {
     "data": {
      "text/plain": [
       "{0: 63/256,\n",
       " 1: 63/256,\n",
       " 2: 21/128,\n",
       " 3: 9/128,\n",
       " 4: 9/512,\n",
       " 5: 1/512,\n",
       " -1: 21/128,\n",
       " -2: 9/128,\n",
       " -3: 9/512,\n",
       " -4: 1/512}"
      ]
     },
     "execution_count": 6,
     "metadata": {},
     "output_type": "execute_result"
    }
   ],
   "source": [
    "a = stats.FiniteRV('a', pmf_a)\n",
    "b = stats.FiniteRV('b', pmf_b)\n",
    "stats.density(a-b)"
   ]
  },
  {
   "cell_type": "code",
   "execution_count": 7,
   "metadata": {},
   "outputs": [
    {
     "data": {
      "text/plain": [
       "[9/128, 0.0703125000000000]"
      ]
     },
     "execution_count": 7,
     "metadata": {},
     "output_type": "execute_result"
    }
   ],
   "source": [
    "ans = stats.density(a-b)[3]\n",
    "[ans, ans.evalf()]"
   ]
  },
  {
   "cell_type": "code",
   "execution_count": 8,
   "metadata": {},
   "outputs": [
    {
     "data": {
      "text/plain": [
       "137"
      ]
     },
     "execution_count": 8,
     "metadata": {},
     "output_type": "execute_result"
    }
   ],
   "source": [
    "ans.numerator()+ans.denominator()"
   ]
  },
  {
   "cell_type": "markdown",
   "metadata": {},
   "source": [
    "### 실험"
   ]
  },
  {
   "cell_type": "code",
   "execution_count": 9,
   "metadata": {},
   "outputs": [
    {
     "data": {
      "text/plain": [
       "0.07161"
      ]
     },
     "execution_count": 9,
     "metadata": {},
     "output_type": "execute_result"
    }
   ],
   "source": [
    "import random\n",
    "\n",
    "\n",
    "dice = [1,2,3,4,5,6]\n",
    "coin = ['H','T']\n",
    "\n",
    "\n",
    "counter = 0\n",
    "num_trials = 100000\n",
    "for _ in range(num_trials):\n",
    "    sample_dice = random.choices(dice, k=5)\n",
    "    sample_coin = random.choices(coin, k=4)\n",
    "    a = sum([1 for _ in sample_dice if _%2==1])\n",
    "    b = sum([1 for _ in sample_coin if _==\"H\"])\n",
    "    #ab_list.append(a-b)\n",
    "    if a-b==3 : counter +=1\n",
    "counter/num_trials"
   ]
  },
  {
   "cell_type": "code",
   "execution_count": null,
   "metadata": {},
   "outputs": [],
   "source": []
  }
 ],
 "metadata": {
  "kernelspec": {
   "display_name": "Python 3",
   "language": "python",
   "name": "python3"
  },
  "language_info": {
   "codemirror_mode": {
    "name": "ipython",
    "version": 3
   },
   "file_extension": ".py",
   "mimetype": "text/x-python",
   "name": "python",
   "nbconvert_exporter": "python",
   "pygments_lexer": "ipython3",
   "version": "3.8.5"
  }
 },
 "nbformat": 4,
 "nbformat_minor": 2
}
