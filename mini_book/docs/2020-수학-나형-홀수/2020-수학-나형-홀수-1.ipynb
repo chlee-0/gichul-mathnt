{
  "nbformat": 4,
  "nbformat_minor": 0,
  "metadata": {
    "kernelspec": {
      "display_name": "Python 3",
      "language": "python",
      "name": "python3"
    },
    "language_info": {
      "codemirror_mode": {
        "name": "ipython",
        "version": 3
      },
      "file_extension": ".py",
      "mimetype": "text/x-python",
      "name": "python",
      "nbconvert_exporter": "python",
      "pygments_lexer": "ipython3",
      "version": "3.7.3"
    },
    "colab": {
      "name": "2020-수학-나형-홀수-1.ipynb",
      "provenance": []
    }
  },
  "cells": [
    {
      "cell_type": "markdown",
      "metadata": {
        "id": "1nlX3DQJAZo3"
      },
      "source": [
        "# 2020-수학-나형-홀수-1"
      ]
    },
    {
      "cell_type": "markdown",
      "metadata": {
        "id": "ZRNuwr_eAZpV"
      },
      "source": [
        "## 문제\n",
        "![2020-수학-나형-홀수-1](https://wiki.mathnt.net/img_auth.php/2/2a/43f86c5c69799011d3586a1ba012fcfcf1e2ba98.png)"
      ]
    },
    {
      "cell_type": "markdown",
      "metadata": {
        "id": "ALAFjT7YAZpW"
      },
      "source": [
        "## 풀이"
      ]
    },
    {
      "cell_type": "code",
      "metadata": {
        "id": "4Rjg660FAZpY"
      },
      "source": [
        "from sympy import *"
      ],
      "execution_count": 1,
      "outputs": []
    },
    {
      "cell_type": "code",
      "metadata": {
        "id": "EQ6h32X0BCu3",
        "outputId": "6d8a1422-415a-4b24-de8d-64e9475d6238",
        "colab": {
          "base_uri": "https://localhost:8080/"
        }
      },
      "source": [
        "16*2**-3"
      ],
      "execution_count": 2,
      "outputs": [
        {
          "output_type": "execute_result",
          "data": {
            "text/plain": [
              "2.0"
            ]
          },
          "metadata": {
            "tags": []
          },
          "execution_count": 2
        }
      ]
    },
    {
      "cell_type": "code",
      "metadata": {
        "id": "izlfM827BGOR"
      },
      "source": [
        ""
      ],
      "execution_count": 2,
      "outputs": []
    }
  ]
}