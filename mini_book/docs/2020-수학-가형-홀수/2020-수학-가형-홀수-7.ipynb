{
 "cells": [
  {
   "cell_type": "markdown",
   "metadata": {},
   "source": [
    "# 2020-수학-가형-홀수-7"
   ]
  },
  {
   "cell_type": "markdown",
   "metadata": {},
   "source": [
    "## 문제\n",
    "![2020-수학-가형-홀수-7](https://wiki.mathnt.net/img_auth.php/d/dd/0248bd291e7b842f155620dd6905018030b1b39a.png)"
   ]
  },
  {
   "cell_type": "markdown",
   "metadata": {},
   "source": [
    "## 풀이"
   ]
  },
  {
   "cell_type": "code",
   "execution_count": 1,
   "metadata": {},
   "outputs": [],
   "source": [
    "from sympy import *\n",
    "\n",
    "x = Symbol(\"x\")"
   ]
  },
  {
   "cell_type": "code",
   "execution_count": 2,
   "metadata": {},
   "outputs": [
    {
     "data": {
      "text/plain": [
       "[False, True, True, False]"
      ]
     },
     "execution_count": 2,
     "metadata": {},
     "output_type": "execute_result"
    }
   ],
   "source": [
    "domain = Interval.open(0, 2*pi)\n",
    "[domain.contains(0), domain.contains(1), domain.contains(6), domain.contains(2*pi)]"
   ]
  },
  {
   "cell_type": "code",
   "execution_count": 3,
   "metadata": {},
   "outputs": [
    {
     "data": {
      "text/latex": [
       "$\\displaystyle \\left\\{\\frac{\\pi}{3}, \\frac{2 \\pi}{3}, \\frac{4 \\pi}{3}, \\frac{5 \\pi}{3}\\right\\}$"
      ],
      "text/plain": [
       "FiniteSet(pi/3, 2*pi/3, 4*pi/3, 5*pi/3)"
      ]
     },
     "execution_count": 3,
     "metadata": {},
     "output_type": "execute_result"
    }
   ],
   "source": [
    "soln = solveset(4*cos(x)**2 - 1, x, domain)\n",
    "soln"
   ]
  },
  {
   "cell_type": "code",
   "execution_count": 10,
   "metadata": {},
   "outputs": [
    {
     "name": "stdout",
     "output_type": "stream",
     "text": [
      "[pi/3, sqrt(3)/4]\n",
      "[2*pi/3, -sqrt(3)/4]\n",
      "[4*pi/3, sqrt(3)/4]\n",
      "[5*pi/3, -sqrt(3)/4]\n"
     ]
    },
    {
     "data": {
      "text/latex": [
       "$\\displaystyle \\frac{7 \\pi}{3}$"
      ],
      "text/plain": [
       "7*pi/3"
      ]
     },
     "execution_count": 10,
     "metadata": {},
     "output_type": "execute_result"
    }
   ],
   "source": [
    "ans = 0\n",
    "for a in soln:\n",
    "    print([a,(sin(x)*cos(x)).subs(x,a)])\n",
    "    if (sin(x)*cos(x)).subs(x,a)<0:\n",
    "        ans += a\n",
    "ans"
   ]
  },
  {
   "cell_type": "code",
   "execution_count": null,
   "metadata": {},
   "outputs": [],
   "source": []
  }
 ],
 "metadata": {
  "kernelspec": {
   "display_name": "Python 3",
   "language": "python",
   "name": "python3"
  },
  "language_info": {
   "codemirror_mode": {
    "name": "ipython",
    "version": 3
   },
   "file_extension": ".py",
   "mimetype": "text/x-python",
   "name": "python",
   "nbconvert_exporter": "python",
   "pygments_lexer": "ipython3",
   "version": "3.7.3"
  }
 },
 "nbformat": 4,
 "nbformat_minor": 2
}
