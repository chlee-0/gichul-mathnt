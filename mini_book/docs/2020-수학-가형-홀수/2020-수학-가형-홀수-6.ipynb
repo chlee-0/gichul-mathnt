{
 "cells": [
  {
   "cell_type": "markdown",
   "metadata": {},
   "source": [
    "# 2020-수학-가형-홀수-6"
   ]
  },
  {
   "cell_type": "markdown",
   "metadata": {},
   "source": [
    "## 문제\n",
    "![2020-수학-가형-홀수-6](https://wiki.mathnt.net/img_auth.php/b/ba/7ce0dc6e33b1db90fc8c21f8edb3836150f42aa2.png)"
   ]
  },
  {
   "cell_type": "markdown",
   "metadata": {},
   "source": [
    "## 풀이"
   ]
  },
  {
   "cell_type": "code",
   "execution_count": 1,
   "metadata": {},
   "outputs": [],
   "source": [
    "from sympy import *\n",
    "from itertools import combinations "
   ]
  },
  {
   "cell_type": "code",
   "execution_count": 2,
   "metadata": {},
   "outputs": [
    {
     "name": "stdout",
     "output_type": "stream",
     "text": [
      "['w', 'w', 'w', 'b', 3]\n",
      "['w', 'w', 'w', 'b', 3]\n",
      "['w', 'w', 'w', 'b', 3]\n",
      "['w', 'w', 'w', 'b', 3]\n",
      "['w', 'w', 'b', 'b', 2]\n",
      "['w', 'w', 'b', 'b', 2]\n",
      "['w', 'w', 'b', 'b', 2]\n",
      "['w', 'w', 'b', 'b', 2]\n",
      "['w', 'w', 'b', 'b', 2]\n",
      "['w', 'w', 'b', 'b', 2]\n",
      "['w', 'w', 'b', 'b', 2]\n",
      "['w', 'w', 'b', 'b', 2]\n",
      "['w', 'w', 'b', 'b', 2]\n",
      "['w', 'w', 'b', 'b', 2]\n",
      "['w', 'w', 'b', 'b', 2]\n",
      "['w', 'w', 'b', 'b', 2]\n",
      "['w', 'b', 'b', 'b', 1]\n",
      "['w', 'b', 'b', 'b', 1]\n",
      "['w', 'b', 'b', 'b', 1]\n",
      "['w', 'b', 'b', 'b', 1]\n",
      "['w', 'w', 'b', 'b', 2]\n",
      "['w', 'w', 'b', 'b', 2]\n",
      "['w', 'w', 'b', 'b', 2]\n",
      "['w', 'w', 'b', 'b', 2]\n",
      "['w', 'w', 'b', 'b', 2]\n",
      "['w', 'w', 'b', 'b', 2]\n",
      "['w', 'b', 'b', 'b', 1]\n",
      "['w', 'b', 'b', 'b', 1]\n",
      "['w', 'b', 'b', 'b', 1]\n",
      "['w', 'b', 'b', 'b', 1]\n",
      "['w', 'b', 'b', 'b', 1]\n",
      "['w', 'b', 'b', 'b', 1]\n",
      "['w', 'b', 'b', 'b', 1]\n",
      "['w', 'b', 'b', 'b', 1]\n",
      "['b', 'b', 'b', 'b', 0]\n"
     ]
    },
    {
     "data": {
      "text/latex": [
       "$\\displaystyle \\frac{18}{35}$"
      ],
      "text/plain": [
       "18/35"
      ]
     },
     "execution_count": 2,
     "metadata": {},
     "output_type": "execute_result"
    }
   ],
   "source": [
    "balls = [\"w\",\"w\",\"w\",\"b\",\"b\",\"b\",\"b\"] \n",
    "how_many = 4\n",
    "\n",
    "com = combinations(balls, how_many)\n",
    "\n",
    "count = 0\n",
    "total = 0\n",
    "for event in com:\n",
    "    print([*event,event.count('w')])\n",
    "    if event.count('w') == 2:\n",
    "        count += 1\n",
    "    total +=1\n",
    "Rational(count,total)"
   ]
  },
  {
   "cell_type": "code",
   "execution_count": null,
   "metadata": {},
   "outputs": [],
   "source": []
  }
 ],
 "metadata": {
  "kernelspec": {
   "display_name": "Python 3",
   "language": "python",
   "name": "python3"
  },
  "language_info": {
   "codemirror_mode": {
    "name": "ipython",
    "version": 3
   },
   "file_extension": ".py",
   "mimetype": "text/x-python",
   "name": "python",
   "nbconvert_exporter": "python",
   "pygments_lexer": "ipython3",
   "version": "3.7.3"
  }
 },
 "nbformat": 4,
 "nbformat_minor": 2
}
