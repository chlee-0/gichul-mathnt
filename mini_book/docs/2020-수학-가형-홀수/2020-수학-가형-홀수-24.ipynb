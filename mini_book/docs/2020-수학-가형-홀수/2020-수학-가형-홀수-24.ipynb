{
 "cells": [
  {
   "cell_type": "markdown",
   "metadata": {},
   "source": [
    "# 2020-수학-가형-홀수-24"
   ]
  },
  {
   "cell_type": "markdown",
   "metadata": {},
   "source": [
    "## 문제\n",
    "![2020-수학-가형-홀수-24](https://wiki.mathnt.net/img_auth.php/5/55/B263da0e7807e9fbec971b1ef9895a05757b865d.png)"
   ]
  },
  {
   "cell_type": "markdown",
   "metadata": {},
   "source": [
    "## 풀이"
   ]
  },
  {
   "cell_type": "code",
   "execution_count": 1,
   "metadata": {},
   "outputs": [],
   "source": [
    "from sympy import *"
   ]
  },
  {
   "cell_type": "code",
   "execution_count": 2,
   "metadata": {},
   "outputs": [
    {
     "data": {
      "text/plain": [
       "[Point2D(t*(sin(t) + sin(t)**2/sqrt(t**2 + sin(t)**2))/sin(t), sin(t) + sin(t)**2/sqrt(t**2 + sin(t)**2)),\n",
       " Point2D(t*(sin(t) - sin(t)**2/sqrt(t**2 + sin(t)**2))/sin(t), sin(t) - sin(t)**2/sqrt(t**2 + sin(t)**2))]"
      ]
     },
     "execution_count": 2,
     "metadata": {},
     "output_type": "execute_result"
    }
   ],
   "source": [
    "t = symbols('t')\n",
    "O = Point(0,0)\n",
    "Q = Point(t, 0)\n",
    "P = Point(t, sin(t))\n",
    "c = Circle(P, sin(t))\n",
    "l = Line(O, P)\n",
    "R_candidates = intersection(c,l)\n",
    "R_candidates"
   ]
  },
  {
   "cell_type": "code",
   "execution_count": 3,
   "metadata": {},
   "outputs": [
    {
     "data": {
      "text/latex": [
       "$\\displaystyle Point2D\\left(\\frac{t \\left(\\sin{\\left(t \\right)} - \\frac{\\sin^{2}{\\left(t \\right)}}{\\sqrt{t^{2} + \\sin^{2}{\\left(t \\right)}}}\\right)}{\\sin{\\left(t \\right)}}, \\sin{\\left(t \\right)} - \\frac{\\sin^{2}{\\left(t \\right)}}{\\sqrt{t^{2} + \\sin^{2}{\\left(t \\right)}}}\\right)$"
      ],
      "text/plain": [
       "Point2D(t*(sin(t) - sin(t)**2/sqrt(t**2 + sin(t)**2))/sin(t), sin(t) - sin(t)**2/sqrt(t**2 + sin(t)**2))"
      ]
     },
     "execution_count": 3,
     "metadata": {},
     "output_type": "execute_result"
    }
   ],
   "source": [
    "R = Point(R_candidates[1])\n",
    "R = simplify(R)\n",
    "R"
   ]
  },
  {
   "cell_type": "code",
   "execution_count": 4,
   "metadata": {},
   "outputs": [
    {
     "data": {
      "text/latex": [
       "$\\displaystyle \\frac{\\sqrt{t^{2}}}{\\sqrt{\\frac{t^{2} \\left(\\sin{\\left(t \\right)} - \\frac{\\sin^{2}{\\left(t \\right)}}{\\sqrt{t^{2} + \\sin^{2}{\\left(t \\right)}}}\\right)^{2}}{\\sin^{2}{\\left(t \\right)}} + \\left(- \\sin{\\left(t \\right)} + \\frac{\\sin^{2}{\\left(t \\right)}}{\\sqrt{t^{2} + \\sin^{2}{\\left(t \\right)}}}\\right)^{2}}}$"
      ],
      "text/plain": [
       "sqrt(t**2)/sqrt(t**2*(sin(t) - sin(t)**2/sqrt(t**2 + sin(t)**2))**2/sin(t)**2 + (-sin(t) + sin(t)**2/sqrt(t**2 + sin(t)**2))**2)"
      ]
     },
     "execution_count": 4,
     "metadata": {},
     "output_type": "execute_result"
    }
   ],
   "source": [
    "expr = (O.distance(Q))/(O.distance(R))\n",
    "expr"
   ]
  },
  {
   "cell_type": "code",
   "execution_count": 5,
   "metadata": {},
   "outputs": [
    {
     "data": {
      "text/latex": [
       "$\\displaystyle \\frac{1}{\\sqrt{3 - 2 \\sqrt{2}}}$"
      ],
      "text/plain": [
       "1/sqrt(3 - 2*sqrt(2))"
      ]
     },
     "execution_count": 5,
     "metadata": {},
     "output_type": "execute_result"
    }
   ],
   "source": [
    "lim = limit(expr,t,0)\n",
    "lim"
   ]
  },
  {
   "cell_type": "code",
   "execution_count": 6,
   "metadata": {},
   "outputs": [
    {
     "data": {
      "text/latex": [
       "$\\displaystyle \\frac{1}{\\sqrt{3 - 2 \\sqrt{2}}}$"
      ],
      "text/plain": [
       "1/sqrt(3 - 2*sqrt(2))"
      ]
     },
     "execution_count": 6,
     "metadata": {},
     "output_type": "execute_result"
    }
   ],
   "source": [
    "simplify(lim)"
   ]
  },
  {
   "cell_type": "code",
   "execution_count": 7,
   "metadata": {},
   "outputs": [
    {
     "name": "stdout",
     "output_type": "stream",
     "text": [
      "[-10*sqrt(2) - 10, 26.5563491861040]\n",
      "[-10*sqrt(2) - 9, 25.5563491861040]\n",
      "[-10*sqrt(2) - 8, 24.5563491861040]\n",
      "[-10*sqrt(2) - 7, 23.5563491861040]\n",
      "[-10*sqrt(2) - 6, 22.5563491861040]\n",
      "[-10*sqrt(2) - 5, 21.5563491861040]\n",
      "[-10*sqrt(2) - 4, 20.5563491861040]\n",
      "[-10*sqrt(2) - 3, 19.5563491861040]\n",
      "[-10*sqrt(2) - 2, 18.5563491861040]\n",
      "[-10*sqrt(2) - 1, 17.5563491861040]\n",
      "[-10*sqrt(2), 16.5563491861040]\n",
      "[1 - 10*sqrt(2), 15.5563491861040]\n",
      "[2 - 10*sqrt(2), 14.5563491861040]\n",
      "[3 - 10*sqrt(2), 13.5563491861040]\n",
      "[4 - 10*sqrt(2), 12.5563491861040]\n",
      "[5 - 10*sqrt(2), 11.5563491861040]\n",
      "[6 - 10*sqrt(2), 10.5563491861040]\n",
      "[7 - 10*sqrt(2), 9.55634918610405]\n",
      "[8 - 10*sqrt(2), 8.55634918610405]\n",
      "[9 - 10*sqrt(2), 7.55634918610405]\n",
      "[8 - 9*sqrt(2), 7.14213562373095]\n",
      "[9 - 9*sqrt(2), 6.14213562373095]\n",
      "[8 - 8*sqrt(2), 5.72792206135786]\n",
      "[9 - 8*sqrt(2), 4.72792206135786]\n",
      "[8 - 7*sqrt(2), 4.31370849898476]\n",
      "[9 - 7*sqrt(2), 3.31370849898476]\n",
      "[8 - 6*sqrt(2), 2.89949493661167]\n",
      "[9 - 6*sqrt(2), 1.89949493661167]\n",
      "[8 - 5*sqrt(2), 1.48528137423857]\n",
      "[9 - 5*sqrt(2), 0.485281374238570]\n",
      "[8 - 4*sqrt(2), 0.0710678118654752]\n",
      "[1 + sqrt(2), 0.e-128]\n"
     ]
    },
    {
     "data": {
      "text/latex": [
       "$\\displaystyle 1 + \\sqrt{2}$"
      ],
      "text/plain": [
       "1 + sqrt(2)"
      ]
     },
     "execution_count": 7,
     "metadata": {},
     "output_type": "execute_result"
    }
   ],
   "source": [
    "min_diff = 1000.0\n",
    "size = 10\n",
    "for a in range(-size,size):\n",
    "    for b in range(-size,size):\n",
    "        val = a*sqrt(2)+b\n",
    "        diff = abs(lim-val).evalf()\n",
    "        if (diff-min_diff).evalf()<0:\n",
    "            min_diff = diff\n",
    "            ans = val\n",
    "            print([val, min_diff])\n",
    "ans"
   ]
  },
  {
   "cell_type": "markdown",
   "metadata": {},
   "source": [
    "### PSLQ"
   ]
  },
  {
   "cell_type": "code",
   "execution_count": 8,
   "metadata": {},
   "outputs": [],
   "source": [
    "from mpmath import *"
   ]
  },
  {
   "cell_type": "code",
   "execution_count": 9,
   "metadata": {},
   "outputs": [
    {
     "data": {
      "text/plain": [
       "[1, -2, -1]"
      ]
     },
     "execution_count": 9,
     "metadata": {},
     "output_type": "execute_result"
    }
   ],
   "source": [
    "pslq([(lim**2).evalf(), lim.evalf(), 1], tol=0.01)"
   ]
  },
  {
   "cell_type": "code",
   "execution_count": 10,
   "metadata": {},
   "outputs": [
    {
     "data": {
      "text/plain": [
       "[1 - sqrt(2), 1 + sqrt(2)]"
      ]
     },
     "execution_count": 10,
     "metadata": {},
     "output_type": "execute_result"
    }
   ],
   "source": [
    "x = symbols('x')\n",
    "solve(x**2-2*x-1,x)"
   ]
  },
  {
   "cell_type": "code",
   "execution_count": null,
   "metadata": {},
   "outputs": [],
   "source": []
  }
 ],
 "metadata": {
  "kernelspec": {
   "display_name": "Python 3",
   "language": "python",
   "name": "python3"
  },
  "language_info": {
   "codemirror_mode": {
    "name": "ipython",
    "version": 3
   },
   "file_extension": ".py",
   "mimetype": "text/x-python",
   "name": "python",
   "nbconvert_exporter": "python",
   "pygments_lexer": "ipython3",
   "version": "3.8.5"
  }
 },
 "nbformat": 4,
 "nbformat_minor": 2
}
