{
 "cells": [
  {
   "cell_type": "markdown",
   "metadata": {},
   "source": [
    "# 2020-수학-가형-홀수-17"
   ]
  },
  {
   "cell_type": "markdown",
   "metadata": {},
   "source": [
    "## 문제\n",
    "![local](../../_static/thumb/5bdd39df30d6542d76ee584b7f3d1afb1018bb9c.png)"
   ]
  },
  {
   "cell_type": "markdown",
   "metadata": {},
   "source": [
    "## 풀이"
   ]
  },
  {
   "cell_type": "code",
   "execution_count": 1,
   "metadata": {},
   "outputs": [],
   "source": [
    "from sympy import *\n",
    "x, y = symbols('x y')\n",
    "P = Point(x,y)\n",
    "A = Point(0,5*sqrt(3))\n",
    "B = Point(-5,0)\n",
    "C = Point(5,0)"
   ]
  },
  {
   "cell_type": "code",
   "execution_count": 2,
   "metadata": {},
   "outputs": [
    {
     "data": {
      "text/latex": [
       "$\\displaystyle - \\sqrt{y^{2} + \\left(x - 5\\right)^{2}} + \\sqrt{y^{2} + \\left(x + 5\\right)^{2}} - 2$"
      ],
      "text/plain": [
       "-sqrt(y**2 + (x - 5)**2) + sqrt(y**2 + (x + 5)**2) - 2"
      ]
     },
     "execution_count": 2,
     "metadata": {},
     "output_type": "execute_result"
    }
   ],
   "source": [
    "eqn = P.distance(B) - P.distance(C)-2\n",
    "eqn"
   ]
  },
  {
   "cell_type": "code",
   "execution_count": 3,
   "metadata": {},
   "outputs": [
    {
     "data": {
      "text/plain": [
       "[-sqrt(6*y**2 + 144)/12, sqrt(6*y**2 + 144)/12]"
      ]
     },
     "execution_count": 3,
     "metadata": {},
     "output_type": "execute_result"
    }
   ],
   "source": [
    "sol = solve(eqn,x)\n",
    "sol"
   ]
  },
  {
   "cell_type": "code",
   "execution_count": 4,
   "metadata": {},
   "outputs": [
    {
     "name": "stdout",
     "output_type": "stream",
     "text": [
      "[('x_val', 'y_val'), 'new distance', 'new area']\n",
      "['new P found!', (11.6044932707299, -56.6387), 66.3220752276867, 163.501843457752]\n",
      "['new P found!', (9.57246123368576, -46.6387), 56.1213536165161, 134.634329998271]\n",
      "['new P found!', (7.54540240171126, -36.6387), 45.9230697397995, 105.766816538790]\n",
      "['new P found!', (5.52878956647987, -26.6387), 35.7293110797881, 76.8993030793084]\n",
      "['new P found!', (3.54051748624642, -16.6387), 25.5454954831450, 48.0317896198271]\n",
      "['new P found!', (1.68414589740616, -6.6387), 15.3913723252940, 19.1642761603458]\n",
      "['new P found!', (1.21275062169296, 3.3613), 5.43596154931250, 9.70323729913544]\n",
      "['new P found!', (1.33885737493456, 4.3613), 4.50261533887975, 12.5899886450836]\n",
      "['new P found!', (1.48244642525455, 5.3613), 3.61673127942342, 15.4767399910317]\n",
      "['new P found!', (1.63892924509164, 6.3613), 2.82334530982975, 18.3634913369798]\n",
      "['new P found!', (1.80495542061755, 7.3613), 2.22376834738893, 21.2502426829280]\n",
      "['new P found!', (1.97812345513368, 8.3613), 2.00058639415884, 24.1369940288761]\n",
      "['new P found!', (1.97636252251875, 8.3513), 2.00036532111438, 24.1081265154166]\n",
      "['new P found!', (1.97460212964958, 8.3413), 2.00019630253480, 24.0792590019571]\n",
      "['new P found!', (1.97284227797105, 8.3313), 2.00007935161686, 24.0503914884976]\n",
      "['new P found!', (1.97108296893273, 8.3213), 2.00001447749452, 24.0215239750382]\n",
      "['new P found!', (1.96932420398894, 8.3113), 2.00000168523543, 23.9926564615787]\n",
      "['new P found!', (1.96950005595752, 8.3123), 2.00000062071713, 23.9955432129246]\n",
      "['new P found!', (1.96967591338017, 8.3133), 2.00000007703163, 23.9984299642706]\n",
      "['new P found!', (1.96985177625543, 8.3143), 2.00000005417938, 24.0013167156165]\n",
      "['new P found!', (1.96983418972258, 8.3142), 2.00000003302710, 24.0010280404819]\n",
      "['new P found!', (1.96981660324424, 8.3141), 2.00000001708316, 24.0007393653473]\n",
      "['new P found!', (1.96979901682041, 8.314), 2.00000000634755, 24.0004506902127]\n",
      "['new P found!', (1.96978143045110, 8.3139), 2.00000000082027, 24.0001620150781]\n",
      "['new P found!', (1.96976384413631, 8.3138), 2.00000000050133, 23.9998733399436]\n",
      "P is stable!\n",
      "['area of PBC divided by sqrt(3):', 23.9998733399436]\n"
     ]
    },
    {
     "data": {
      "text/latex": [
       "$\\displaystyle 23.9998733399436$"
      ],
      "text/plain": [
       "23.9998733399436"
      ]
     },
     "execution_count": 4,
     "metadata": {},
     "output_type": "execute_result"
    }
   ],
   "source": [
    "import random\n",
    "\n",
    "y_val = round(random.uniform(-100,100),4)\n",
    "x_val = sol[1].subs(y,y_val)\n",
    "min_distance = A.distance(Point(x_val,y_val))\n",
    "P_is_not_stable = True\n",
    "\n",
    "print([(\"x_val\",\"y_val\"), \"new distance\", \"new area\"])\n",
    "while P_is_not_stable:\n",
    "    init_y = y_val    \n",
    "    for y_delta in [10,-10, 1,-1, 0.5, -0.5, 0.1,-0,1, 0.01,-0.01, 0.001,-0.001,0.0001,-0.0001] :\n",
    "        y_temp = round(y_val+y_delta,4)\n",
    "        x_temp = sol[1].subs(y,y_temp)\n",
    "        P_temp = Point(x_temp,y_temp)\n",
    "        dist = A.distance(P_temp)\n",
    "        if dist < min_distance:\n",
    "            area = abs(Triangle(P_temp, B, C).area)\n",
    "            min_distance = dist\n",
    "            x_val = x_temp\n",
    "            y_val = y_temp            \n",
    "            print([\"new P found!\", (x_val,y_val), dist.evalf(), (area/sqrt(3)).evalf()])\n",
    "            break\n",
    "    if init_y == y_val:\n",
    "        print(\"P is stable!\")\n",
    "        print([\"area of PBC divided by sqrt(3):\", (area/sqrt(3)).evalf()])\n",
    "        P_is_not_stable = False\n",
    "area/sqrt(3).evalf()"
   ]
  },
  {
   "cell_type": "code",
   "execution_count": null,
   "metadata": {},
   "outputs": [],
   "source": []
  }
 ],
 "metadata": {
  "kernelspec": {
   "display_name": "Python 3",
   "language": "python",
   "name": "python3"
  },
  "language_info": {
   "codemirror_mode": {
    "name": "ipython",
    "version": 3
   },
   "file_extension": ".py",
   "mimetype": "text/x-python",
   "name": "python",
   "nbconvert_exporter": "python",
   "pygments_lexer": "ipython3",
   "version": "3.7.3"
  }
 },
 "nbformat": 4,
 "nbformat_minor": 2
}
