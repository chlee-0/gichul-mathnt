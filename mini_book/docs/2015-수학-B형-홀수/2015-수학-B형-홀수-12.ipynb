{
  "nbformat": 4,
  "nbformat_minor": 0,
  "metadata": {
    "kernelspec": {
      "display_name": "Python 3",
      "language": "python",
      "name": "python3"
    },
    "language_info": {
      "codemirror_mode": {
        "name": "ipython",
        "version": 3
      },
      "file_extension": ".py",
      "mimetype": "text/x-python",
      "name": "python",
      "nbconvert_exporter": "python",
      "pygments_lexer": "ipython3",
      "version": "3.7.3"
    },
    "colab": {
      "name": "2015-수학-B형-홀수-12.ipynb",
      "provenance": []
    }
  },
  "cells": [
    {
      "cell_type": "markdown",
      "metadata": {
        "id": "vRcHDuVJCPTW"
      },
      "source": [
        "# 2015-수학-B형-홀수-12"
      ]
    },
    {
      "cell_type": "markdown",
      "metadata": {
        "id": "Cw3giZPrCPTo"
      },
      "source": [
        "## 문제\n",
        "![2015-수학-B형-홀수-12](https://wiki.mathnt.net/img_auth.php/0/05/F666b633a2fa339757e9776301a3f67a0fce591e.png)"
      ]
    },
    {
      "cell_type": "markdown",
      "metadata": {
        "id": "6E4aYCi_CPTo"
      },
      "source": [
        "## 풀이"
      ]
    },
    {
      "cell_type": "code",
      "metadata": {
        "id": "U97Ndbf8CPTq"
      },
      "source": [
        "from sympy import *\r\n",
        "x, y, z = symbols('x y z', real=True)"
      ],
      "execution_count": 1,
      "outputs": []
    },
    {
      "cell_type": "code",
      "metadata": {
        "id": "X-Qy9rPvEsn5"
      },
      "source": [
        "A = Point(-3,0,0)\r\n",
        "B = Point(3,0,0)\r\n",
        "H = Point(0,y,0)\r\n",
        "P = Point(0,y,4)"
      ],
      "execution_count": 2,
      "outputs": []
    },
    {
      "cell_type": "code",
      "metadata": {
        "id": "DVoCXkYPIN12",
        "outputId": "5e17cf96-0d8d-4508-c79f-6671926cd807",
        "colab": {
          "base_uri": "https://localhost:8080/"
        }
      },
      "source": [
        "solve(Eq(P.distance(A),6), y)"
      ],
      "execution_count": 3,
      "outputs": [
        {
          "output_type": "execute_result",
          "data": {
            "text/plain": [
              "[-sqrt(11), sqrt(11)]"
            ]
          },
          "metadata": {
            "tags": []
          },
          "execution_count": 3
        }
      ]
    },
    {
      "cell_type": "code",
      "metadata": {
        "id": "hpjwbrU8I_JG",
        "outputId": "f3d93786-5f0f-4177-cb16-3dccd85b739f",
        "colab": {
          "base_uri": "https://localhost:8080/"
        }
      },
      "source": [
        "Line(A,B).distance(H).subs(y, sqrt(11))"
      ],
      "execution_count": 4,
      "outputs": [
        {
          "output_type": "execute_result",
          "data": {
            "text/plain": [
              "sqrt(11)"
            ]
          },
          "metadata": {
            "tags": []
          },
          "execution_count": 4
        }
      ]
    },
    {
      "cell_type": "code",
      "metadata": {
        "id": "NX2hamwzJkzW"
      },
      "source": [
        ""
      ],
      "execution_count": 4,
      "outputs": []
    }
  ]
}