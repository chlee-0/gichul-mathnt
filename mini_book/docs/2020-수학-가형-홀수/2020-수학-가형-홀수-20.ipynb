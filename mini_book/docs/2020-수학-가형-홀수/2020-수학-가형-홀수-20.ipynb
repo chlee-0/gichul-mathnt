{
 "cells": [
  {
   "cell_type": "markdown",
   "metadata": {},
   "source": [
    "# 2020-수학-가형-홀수-20"
   ]
  },
  {
   "cell_type": "markdown",
   "metadata": {},
   "source": [
    "## 문제\n",
    "![2020-수학-가형-홀수-20](https://wiki.mathnt.net/img_auth.php/7/73/697e324cde6aa480b61922f3ad79e305069f04e6.png)"
   ]
  },
  {
   "cell_type": "markdown",
   "metadata": {},
   "source": [
    "## 풀이"
   ]
  },
  {
   "cell_type": "code",
   "execution_count": 1,
   "metadata": {},
   "outputs": [],
   "source": [
    "from sympy import Rational\n",
    "from itertools import product"
   ]
  },
  {
   "cell_type": "code",
   "execution_count": 2,
   "metadata": {},
   "outputs": [
    {
     "name": "stdout",
     "output_type": "stream",
     "text": [
      "['found!', ('H', 'H', 'H', 'H', 'H', 'H', 'H')]\n",
      "['found!', ('H', 'H', 'H', 'H', 'H', 'H', 'T')]\n",
      "['found!', ('H', 'H', 'H', 'H', 'H', 'T', 'H')]\n",
      "['found!', ('H', 'H', 'H', 'H', 'H', 'T', 'T')]\n",
      "['found!', ('H', 'H', 'H', 'H', 'T', 'H', 'H')]\n",
      "['found!', ('H', 'H', 'H', 'H', 'T', 'H', 'T')]\n",
      "['found!', ('H', 'H', 'H', 'H', 'T', 'T', 'H')]\n",
      "['found!', ('H', 'H', 'H', 'H', 'T', 'T', 'T')]\n",
      "['found!', ('H', 'H', 'H', 'T', 'H', 'H', 'H')]\n",
      "['found!', ('H', 'H', 'H', 'T', 'H', 'H', 'T')]\n",
      "['found!', ('H', 'H', 'H', 'T', 'H', 'T', 'H')]\n",
      "['found!', ('H', 'H', 'H', 'T', 'H', 'T', 'T')]\n",
      "['found!', ('H', 'H', 'H', 'T', 'T', 'H', 'H')]\n",
      "['found!', ('H', 'H', 'H', 'T', 'T', 'H', 'T')]\n",
      "['found!', ('H', 'H', 'H', 'T', 'T', 'T', 'H')]\n",
      "['found!', ('H', 'H', 'H', 'T', 'T', 'T', 'T')]\n",
      "['found!', ('H', 'H', 'T', 'H', 'H', 'H', 'H')]\n",
      "['found!', ('H', 'H', 'T', 'H', 'H', 'H', 'T')]\n",
      "['found!', ('H', 'H', 'T', 'H', 'H', 'T', 'H')]\n",
      "['found!', ('H', 'H', 'T', 'H', 'H', 'T', 'T')]\n",
      "['found!', ('H', 'H', 'T', 'H', 'T', 'H', 'H')]\n",
      "['found!', ('H', 'H', 'T', 'H', 'T', 'H', 'T')]\n",
      "['found!', ('H', 'H', 'T', 'H', 'T', 'T', 'H')]\n",
      "['found!', ('H', 'H', 'T', 'H', 'T', 'T', 'T')]\n",
      "['found!', ('H', 'H', 'T', 'T', 'H', 'H', 'H')]\n",
      "['found!', ('H', 'H', 'T', 'T', 'H', 'H', 'T')]\n",
      "['found!', ('H', 'H', 'T', 'T', 'H', 'T', 'H')]\n",
      "['found!', ('H', 'H', 'T', 'T', 'H', 'T', 'T')]\n",
      "['found!', ('H', 'H', 'T', 'T', 'T', 'H', 'H')]\n",
      "['found!', ('H', 'H', 'T', 'T', 'T', 'H', 'T')]\n",
      "['found!', ('H', 'H', 'T', 'T', 'T', 'T', 'H')]\n",
      "['found!', ('H', 'T', 'H', 'H', 'H', 'H', 'H')]\n",
      "['found!', ('H', 'T', 'H', 'H', 'H', 'H', 'T')]\n",
      "['found!', ('H', 'T', 'H', 'H', 'H', 'T', 'H')]\n",
      "['found!', ('H', 'T', 'H', 'H', 'H', 'T', 'T')]\n",
      "['found!', ('H', 'T', 'H', 'H', 'T', 'H', 'H')]\n",
      "['found!', ('H', 'T', 'H', 'H', 'T', 'H', 'T')]\n",
      "['found!', ('H', 'T', 'H', 'H', 'T', 'T', 'H')]\n",
      "['found!', ('H', 'T', 'H', 'H', 'T', 'T', 'T')]\n",
      "['found!', ('H', 'T', 'H', 'T', 'H', 'H', 'H')]\n",
      "['found!', ('H', 'T', 'H', 'T', 'H', 'H', 'T')]\n",
      "['found!', ('H', 'T', 'H', 'T', 'T', 'H', 'H')]\n",
      "['found!', ('H', 'T', 'T', 'H', 'H', 'H', 'H')]\n",
      "['found!', ('H', 'T', 'T', 'H', 'H', 'H', 'T')]\n",
      "['found!', ('H', 'T', 'T', 'H', 'H', 'T', 'H')]\n",
      "['found!', ('H', 'T', 'T', 'H', 'H', 'T', 'T')]\n",
      "['found!', ('H', 'T', 'T', 'H', 'T', 'H', 'H')]\n",
      "['found!', ('H', 'T', 'T', 'T', 'H', 'H', 'H')]\n",
      "['found!', ('H', 'T', 'T', 'T', 'H', 'H', 'T')]\n",
      "['found!', ('H', 'T', 'T', 'T', 'T', 'H', 'H')]\n",
      "['found!', ('T', 'H', 'H', 'H', 'H', 'H', 'H')]\n",
      "['found!', ('T', 'H', 'H', 'H', 'H', 'H', 'T')]\n",
      "['found!', ('T', 'H', 'H', 'H', 'H', 'T', 'H')]\n",
      "['found!', ('T', 'H', 'H', 'H', 'H', 'T', 'T')]\n",
      "['found!', ('T', 'H', 'H', 'H', 'T', 'H', 'H')]\n",
      "['found!', ('T', 'H', 'H', 'H', 'T', 'H', 'T')]\n",
      "['found!', ('T', 'H', 'H', 'H', 'T', 'T', 'H')]\n",
      "['found!', ('T', 'H', 'H', 'H', 'T', 'T', 'T')]\n",
      "['found!', ('T', 'H', 'H', 'T', 'H', 'H', 'H')]\n",
      "['found!', ('T', 'H', 'H', 'T', 'H', 'H', 'T')]\n",
      "['found!', ('T', 'H', 'H', 'T', 'H', 'T', 'H')]\n",
      "['found!', ('T', 'H', 'H', 'T', 'H', 'T', 'T')]\n",
      "['found!', ('T', 'H', 'H', 'T', 'T', 'H', 'H')]\n",
      "['found!', ('T', 'H', 'H', 'T', 'T', 'H', 'T')]\n",
      "['found!', ('T', 'H', 'H', 'T', 'T', 'T', 'H')]\n",
      "['found!', ('T', 'H', 'T', 'H', 'H', 'H', 'H')]\n",
      "['found!', ('T', 'H', 'T', 'H', 'H', 'H', 'T')]\n",
      "['found!', ('T', 'H', 'T', 'H', 'H', 'T', 'H')]\n",
      "['found!', ('T', 'H', 'T', 'H', 'H', 'T', 'T')]\n",
      "['found!', ('T', 'H', 'T', 'H', 'T', 'H', 'H')]\n",
      "['found!', ('T', 'H', 'T', 'T', 'H', 'H', 'H')]\n",
      "['found!', ('T', 'H', 'T', 'T', 'H', 'H', 'T')]\n",
      "['found!', ('T', 'H', 'T', 'T', 'T', 'H', 'H')]\n",
      "['found!', ('T', 'T', 'H', 'H', 'H', 'H', 'H')]\n",
      "['found!', ('T', 'T', 'H', 'H', 'H', 'H', 'T')]\n",
      "['found!', ('T', 'T', 'H', 'H', 'H', 'T', 'H')]\n",
      "['found!', ('T', 'T', 'H', 'H', 'H', 'T', 'T')]\n",
      "['found!', ('T', 'T', 'H', 'H', 'T', 'H', 'H')]\n",
      "['found!', ('T', 'T', 'H', 'H', 'T', 'H', 'T')]\n",
      "['found!', ('T', 'T', 'H', 'H', 'T', 'T', 'H')]\n",
      "['found!', ('T', 'T', 'H', 'T', 'H', 'H', 'H')]\n",
      "['found!', ('T', 'T', 'H', 'T', 'H', 'H', 'T')]\n",
      "['found!', ('T', 'T', 'H', 'T', 'T', 'H', 'H')]\n",
      "['found!', ('T', 'T', 'T', 'H', 'H', 'H', 'H')]\n",
      "['found!', ('T', 'T', 'T', 'H', 'H', 'H', 'T')]\n",
      "['found!', ('T', 'T', 'T', 'H', 'H', 'T', 'H')]\n",
      "['found!', ('T', 'T', 'T', 'H', 'T', 'H', 'H')]\n",
      "['found!', ('T', 'T', 'T', 'T', 'H', 'H', 'H')]\n"
     ]
    },
    {
     "data": {
      "text/latex": [
       "$\\displaystyle \\frac{11}{16}$"
      ],
      "text/plain": [
       "11/16"
      ]
     },
     "execution_count": 2,
     "metadata": {},
     "output_type": "execute_result"
    }
   ],
   "source": [
    "all_possibilities = list(product(\"HT\", repeat=7))\n",
    "count = 0\n",
    "for event in all_possibilities:\n",
    "    num_heads = sum(1 for i in event if i == \"H\")\n",
    "    if num_heads>=3 :\n",
    "        if \"HH\" in \"\".join(event):\n",
    "            print([\"found!\",event])\n",
    "            count +=1\n",
    "Rational(count,len(all_possibilities))"
   ]
  },
  {
   "cell_type": "code",
   "execution_count": null,
   "metadata": {},
   "outputs": [],
   "source": []
  }
 ],
 "metadata": {
  "kernelspec": {
   "display_name": "Python 3",
   "language": "python",
   "name": "python3"
  },
  "language_info": {
   "codemirror_mode": {
    "name": "ipython",
    "version": 3
   },
   "file_extension": ".py",
   "mimetype": "text/x-python",
   "name": "python",
   "nbconvert_exporter": "python",
   "pygments_lexer": "ipython3",
   "version": "3.7.3"
  }
 },
 "nbformat": 4,
 "nbformat_minor": 2
}
