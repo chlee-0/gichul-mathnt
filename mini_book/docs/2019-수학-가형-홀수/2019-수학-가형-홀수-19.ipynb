{
  "nbformat": 4,
  "nbformat_minor": 0,
  "metadata": {
    "kernelspec": {
      "display_name": "Python 3",
      "language": "python",
      "name": "python3"
    },
    "language_info": {
      "codemirror_mode": {
        "name": "ipython",
        "version": 3
      },
      "file_extension": ".py",
      "mimetype": "text/x-python",
      "name": "python",
      "nbconvert_exporter": "python",
      "pygments_lexer": "ipython3",
      "version": "3.7.3"
    },
    "colab": {
      "name": "2019-수학-가형-홀수-19.ipynb",
      "provenance": []
    }
  },
  "cells": [
    {
      "cell_type": "markdown",
      "metadata": {
        "id": "iRYTwt9ba2GH"
      },
      "source": [
        "# 2019-수학-가형-홀수-19"
      ]
    },
    {
      "cell_type": "markdown",
      "metadata": {
        "id": "oHFq279za2GV"
      },
      "source": [
        "## 문제\n",
        "![2019-수학-가형-홀수-19](https://wiki.mathnt.net/img_auth.php/1/14/C533b2e28dfc2907439a3988336727dee32075e0.png)"
      ]
    },
    {
      "cell_type": "markdown",
      "metadata": {
        "id": "pcPLo5O3a2GY"
      },
      "source": [
        "## 풀이"
      ]
    },
    {
      "cell_type": "code",
      "metadata": {
        "id": "Uxnhne27a2GY"
      },
      "source": [
        "from sympy import *\r\n",
        "r, x, y, z, k = symbols('r x y z k', real=True)"
      ],
      "execution_count": 1,
      "outputs": []
    },
    {
      "cell_type": "code",
      "metadata": {
        "id": "rBRFelDLcn6N",
        "outputId": "3709dc0e-61e1-4a76-e74e-1fbb0434c119",
        "colab": {
          "base_uri": "https://localhost:8080/"
        }
      },
      "source": [
        "B = Point(r*cos(0),r*sin(0))\r\n",
        "C = Point(r*cos(2*pi/3),r*sin(2*pi/3))\r\n",
        "D = Point(r*cos(4*pi/3),r*sin(4*pi/3))\r\n",
        "eqn = B.distance(C)-12\r\n",
        "r_sol = solve(eqn,r)\r\n",
        "r_sol"
      ],
      "execution_count": 2,
      "outputs": [
        {
          "output_type": "execute_result",
          "data": {
            "text/plain": [
              "[-4*sqrt(3), 4*sqrt(3)]"
            ]
          },
          "metadata": {
            "tags": []
          },
          "execution_count": 2
        }
      ]
    },
    {
      "cell_type": "code",
      "metadata": {
        "id": "fFxG_LTqf8j8",
        "outputId": "0c109d8c-7dd6-428f-b102-39720e7cb0bd",
        "colab": {
          "base_uri": "https://localhost:8080/"
        }
      },
      "source": [
        "B,C,D = [_.subs(r,r_sol[1]) for _ in [B,C,D]];\r\n",
        "B,C,D"
      ],
      "execution_count": 3,
      "outputs": [
        {
          "output_type": "execute_result",
          "data": {
            "text/plain": [
              "(Point2D(4*sqrt(3), 0), Point2D(-2*sqrt(3), 6), Point2D(-2*sqrt(3), -6))"
            ]
          },
          "metadata": {
            "tags": []
          },
          "execution_count": 3
        }
      ]
    },
    {
      "cell_type": "code",
      "metadata": {
        "id": "ID_Qoh5QhDlO",
        "outputId": "34c61b56-4828-4f3b-a325-cc0f30e3c278",
        "colab": {
          "base_uri": "https://localhost:8080/"
        }
      },
      "source": [
        "H = Point(x,y)\r\n",
        "eqns = [Line(B,C).distance(H)-k, Line(C,D).distance(H)-3*k, Line(B,D).distance(H)-2*k]\r\n",
        "nsolve(eqns, [x,y,k], [0,0,0])"
      ],
      "execution_count": 4,
      "outputs": [
        {
          "output_type": "execute_result",
          "data": {
            "text/plain": [
              "Matrix([\n",
              "[1.73205080756888],\n",
              "[             1.0],\n",
              "[1.73205080756888]])"
            ]
          },
          "metadata": {
            "tags": []
          },
          "execution_count": 4
        }
      ]
    },
    {
      "cell_type": "code",
      "metadata": {
        "id": "i5Qc3ouli8cM",
        "outputId": "43a8a335-b5ec-40a7-f2c6-ed65f219771b",
        "colab": {
          "base_uri": "https://localhost:8080/"
        }
      },
      "source": [
        "#x = sqrt(3)\r\n",
        "#y = 1\r\n",
        "#k = sqrt(3)\r\n",
        "for _ in [Line(B,C).distance(H)-k, Line(C,D).distance(H)-3*k, Line(B,D).distance(H)-2*k]:\r\n",
        "  print(_.subs({x:sqrt(3),y:1,k:sqrt(3)}))"
      ],
      "execution_count": 5,
      "outputs": [
        {
          "output_type": "stream",
          "text": [
            "0\n",
            "0\n",
            "0\n"
          ],
          "name": "stdout"
        }
      ]
    },
    {
      "cell_type": "code",
      "metadata": {
        "id": "UiZ1r6v8kted",
        "outputId": "446d9731-a0f3-409f-c837-44c726820f32",
        "colab": {
          "base_uri": "https://localhost:8080/"
        }
      },
      "source": [
        "AH = 3\r\n",
        "A=Point(x,y,AH).subs({x:sqrt(3),y:1,k:sqrt(3)})\r\n",
        "B,C,D = [Point3D(_) for _ in [B,C,D]]\r\n",
        "M = (B+D)/2\r\n",
        "Line(C,M).distance(A)"
      ],
      "execution_count": 6,
      "outputs": [
        {
          "output_type": "execute_result",
          "data": {
            "text/plain": [
              "sqrt(13)"
            ]
          },
          "metadata": {
            "tags": []
          },
          "execution_count": 6
        }
      ]
    }
  ]
}