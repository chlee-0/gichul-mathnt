{
  "nbformat": 4,
  "nbformat_minor": 0,
  "metadata": {
    "kernelspec": {
      "display_name": "Python 3",
      "language": "python",
      "name": "python3"
    },
    "language_info": {
      "codemirror_mode": {
        "name": "ipython",
        "version": 3
      },
      "file_extension": ".py",
      "mimetype": "text/x-python",
      "name": "python",
      "nbconvert_exporter": "python",
      "pygments_lexer": "ipython3",
      "version": "3.8.5"
    },
    "colab": {
      "name": "2019-수학-가형-홀수-3.ipynb",
      "provenance": []
    }
  },
  "cells": [
    {
      "cell_type": "markdown",
      "metadata": {
        "id": "oDOYjWekpzS_"
      },
      "source": [
        "# 2019-수학-가형-홀수-3"
      ]
    },
    {
      "cell_type": "markdown",
      "metadata": {
        "id": "rnIQm_NQpzTU"
      },
      "source": [
        "## 문제\n",
        "![2019-수학-가형-홀수-3](https://wiki.mathnt.net/img_auth.php/8/83/Feca20c430d2e19c3b84c1a2aa255ba129336f28.png)"
      ]
    },
    {
      "cell_type": "markdown",
      "metadata": {
        "id": "kEt0eSaPpzTV"
      },
      "source": [
        "## 풀이"
      ]
    },
    {
      "cell_type": "code",
      "metadata": {
        "id": "ddN-NyXTp7O2"
      },
      "source": [
        "%%capture\r\n",
        "!pip install --upgrade sympy watermark"
      ],
      "execution_count": 1,
      "outputs": []
    },
    {
      "cell_type": "code",
      "metadata": {
        "id": "Vnq4XVbhpzTW",
        "colab": {
          "base_uri": "https://localhost:8080/"
        },
        "outputId": "b1f12682-d6ed-420b-ada4-b79b34b391e4"
      },
      "source": [
        "from sympy import *\n",
        "\n",
        "a = symbols('a')\n",
        "A = Point(2,a,-2)\n",
        "B = Point(5,-2,1)\n",
        "C = (1/3)*A+(2/3)*B\n",
        "solve(C[1],a)"
      ],
      "execution_count": 2,
      "outputs": [
        {
          "output_type": "execute_result",
          "data": {
            "text/plain": [
              "[4.00000000000000]"
            ]
          },
          "metadata": {
            "tags": []
          },
          "execution_count": 2
        }
      ]
    },
    {
      "cell_type": "markdown",
      "metadata": {
        "id": "O0PK1_Hrn-1J"
      },
      "source": [
        "#실행환경"
      ]
    },
    {
      "cell_type": "code",
      "metadata": {
        "colab": {
          "base_uri": "https://localhost:8080/"
        },
        "id": "F0CQrq8feEZ-",
        "outputId": "55f15e2d-9b3c-4675-9742-0609b115adb2"
      },
      "source": [
        "%load_ext watermark\r\n",
        "%watermark --iversions"
      ],
      "execution_count": 3,
      "outputs": [
        {
          "output_type": "stream",
          "text": [
            "sympy.multipledispatch 0.4.9\n",
            "sympy.release          1.7.1\n",
            "\n"
          ],
          "name": "stdout"
        }
      ]
    }
  ]
}