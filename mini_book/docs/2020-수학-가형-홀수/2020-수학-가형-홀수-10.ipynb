{
 "cells": [
  {
   "cell_type": "markdown",
   "metadata": {},
   "source": [
    "# 2020-수학-가형-홀수-10"
   ]
  },
  {
   "cell_type": "markdown",
   "metadata": {},
   "source": [
    "## 문제\n",
    "![2020-수학-가형-홀수-10](https://wiki.mathnt.net/img_auth.php/0/05/E468bc6ae6831af06b984cc78d188154e1d806c1.png)"
   ]
  },
  {
   "cell_type": "markdown",
   "metadata": {},
   "source": [
    "## 풀이"
   ]
  },
  {
   "cell_type": "code",
   "execution_count": 1,
   "metadata": {
    "scrolled": true
   },
   "outputs": [],
   "source": [
    "from sympy import *"
   ]
  },
  {
   "cell_type": "code",
   "execution_count": 2,
   "metadata": {},
   "outputs": [],
   "source": [
    "a, b, x = symbols(\"a b x\")"
   ]
  },
  {
   "cell_type": "code",
   "execution_count": 3,
   "metadata": {},
   "outputs": [
    {
     "data": {
      "text/latex": [
       "$\\displaystyle - \\frac{a}{2} + \\frac{\\pi}{2}$"
      ],
      "text/plain": [
       "-a/2 + pi/2"
      ]
     },
     "execution_count": 3,
     "metadata": {},
     "output_type": "execute_result"
    }
   ],
   "source": [
    "b_in_terms_of_a = solve(a+2*b-pi, b)[0]\n",
    "b_in_terms_of_a"
   ]
  },
  {
   "cell_type": "code",
   "execution_count": 4,
   "metadata": {},
   "outputs": [
    {
     "data": {
      "text/latex": [
       "$\\displaystyle \\frac{3}{2} - \\cot{\\left(\\frac{a}{2} \\right)}$"
      ],
      "text/plain": [
       "3/2 - cot(a/2)"
      ]
     },
     "execution_count": 4,
     "metadata": {},
     "output_type": "execute_result"
    }
   ],
   "source": [
    "eqn = tan(a+b)+Rational(3,2)\n",
    "eqn = eqn.subs(b,b_in_terms_of_a)\n",
    "eqn"
   ]
  },
  {
   "cell_type": "code",
   "execution_count": 5,
   "metadata": {},
   "outputs": [
    {
     "data": {
      "text/latex": [
       "$\\displaystyle \\frac{2 \\tan{\\left(\\frac{a}{2} \\right)}}{1 - \\tan^{2}{\\left(\\frac{a}{2} \\right)}}$"
      ],
      "text/plain": [
       "2*tan(a/2)/(1 - tan(a/2)**2)"
      ]
     },
     "execution_count": 5,
     "metadata": {},
     "output_type": "execute_result"
    }
   ],
   "source": [
    "tan_alpha = expand_trig(tan(2*x)).subs(x,a/2)\n",
    "tan_alpha"
   ]
  },
  {
   "cell_type": "code",
   "execution_count": 6,
   "metadata": {},
   "outputs": [
    {
     "data": {
      "text/latex": [
       "$\\displaystyle \\frac{12}{5}$"
      ],
      "text/plain": [
       "12/5"
      ]
     },
     "execution_count": 6,
     "metadata": {},
     "output_type": "execute_result"
    }
   ],
   "source": [
    "t = Symbol('t')\n",
    "tan_alpha.subs(tan(a/2),Rational(2,3))"
   ]
  },
  {
   "cell_type": "code",
   "execution_count": 7,
   "metadata": {
    "scrolled": true
   },
   "outputs": [
    {
     "name": "stdout",
     "output_type": "stream",
     "text": [
      "1.17600520709514\n"
     ]
    },
    {
     "data": {
      "text/latex": [
       "$\\displaystyle \\frac{12}{5}$"
      ],
      "text/plain": [
       "12/5"
      ]
     },
     "execution_count": 7,
     "metadata": {},
     "output_type": "execute_result"
    }
   ],
   "source": [
    "alpha = solveset(eqn, a, Interval(0,pi))\n",
    "alpha = list(alpha)[0]\n",
    "print(alpha.evalf())\n",
    "tan(alpha)"
   ]
  },
  {
   "cell_type": "code",
   "execution_count": null,
   "metadata": {},
   "outputs": [],
   "source": []
  }
 ],
 "metadata": {
  "kernelspec": {
   "display_name": "Python 3",
   "language": "python",
   "name": "python3"
  },
  "language_info": {
   "codemirror_mode": {
    "name": "ipython",
    "version": 3
   },
   "file_extension": ".py",
   "mimetype": "text/x-python",
   "name": "python",
   "nbconvert_exporter": "python",
   "pygments_lexer": "ipython3",
   "version": "3.7.3"
  }
 },
 "nbformat": 4,
 "nbformat_minor": 2
}
