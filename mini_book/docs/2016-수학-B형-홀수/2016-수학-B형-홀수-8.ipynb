{
  "nbformat": 4,
  "nbformat_minor": 0,
  "metadata": {
    "kernelspec": {
      "display_name": "Python 3",
      "language": "python",
      "name": "python3"
    },
    "language_info": {
      "codemirror_mode": {
        "name": "ipython",
        "version": 3
      },
      "file_extension": ".py",
      "mimetype": "text/x-python",
      "name": "python",
      "nbconvert_exporter": "python",
      "pygments_lexer": "ipython3",
      "version": "3.7.3"
    },
    "colab": {
      "name": "2016-수학-B형-홀수-8.ipynb",
      "provenance": []
    }
  },
  "cells": [
    {
      "cell_type": "markdown",
      "metadata": {
        "id": "8Ug4Tn-RDHwr"
      },
      "source": [
        "# 2016-수학-B형-홀수-8"
      ]
    },
    {
      "cell_type": "markdown",
      "metadata": {
        "id": "7FgIWKNqDHw4"
      },
      "source": [
        "## 문제\n",
        "![2016-수학-B형-홀수-8](https://wiki.mathnt.net/img_auth.php/8/88/Fe6e83db323bc40f68b2ff5e40f03179a8411e69.png)"
      ]
    },
    {
      "cell_type": "markdown",
      "metadata": {
        "id": "W479rUqDDHw6"
      },
      "source": [
        "## 풀이"
      ]
    },
    {
      "cell_type": "code",
      "metadata": {
        "id": "R1xJgtYtDHw7"
      },
      "source": [
        "from sympy import Rational\r\n",
        "from itertools import product"
      ],
      "execution_count": 1,
      "outputs": []
    },
    {
      "cell_type": "code",
      "metadata": {
        "id": "jrWhcTdxDeIY",
        "outputId": "44d07061-1d41-4caf-98a8-11e590e3632d",
        "colab": {
          "base_uri": "https://localhost:8080/"
        }
      },
      "source": [
        "all_possibilities = list(product(\"HT\", repeat=5))\r\n",
        "count = 0\r\n",
        "for event in all_possibilities:\r\n",
        "    num_heads = sum(1 for i in event if i == \"H\")\r\n",
        "    num_tails = 5-num_heads\r\n",
        "    if num_heads*num_tails ==6 :\r\n",
        "          print([\"found!\",event])\r\n",
        "          count +=1\r\n",
        "Rational(count,len(all_possibilities))"
      ],
      "execution_count": 2,
      "outputs": [
        {
          "output_type": "stream",
          "text": [
            "['found!', ('H', 'H', 'H', 'T', 'T')]\n",
            "['found!', ('H', 'H', 'T', 'H', 'T')]\n",
            "['found!', ('H', 'H', 'T', 'T', 'H')]\n",
            "['found!', ('H', 'H', 'T', 'T', 'T')]\n",
            "['found!', ('H', 'T', 'H', 'H', 'T')]\n",
            "['found!', ('H', 'T', 'H', 'T', 'H')]\n",
            "['found!', ('H', 'T', 'H', 'T', 'T')]\n",
            "['found!', ('H', 'T', 'T', 'H', 'H')]\n",
            "['found!', ('H', 'T', 'T', 'H', 'T')]\n",
            "['found!', ('H', 'T', 'T', 'T', 'H')]\n",
            "['found!', ('T', 'H', 'H', 'H', 'T')]\n",
            "['found!', ('T', 'H', 'H', 'T', 'H')]\n",
            "['found!', ('T', 'H', 'H', 'T', 'T')]\n",
            "['found!', ('T', 'H', 'T', 'H', 'H')]\n",
            "['found!', ('T', 'H', 'T', 'H', 'T')]\n",
            "['found!', ('T', 'H', 'T', 'T', 'H')]\n",
            "['found!', ('T', 'T', 'H', 'H', 'H')]\n",
            "['found!', ('T', 'T', 'H', 'H', 'T')]\n",
            "['found!', ('T', 'T', 'H', 'T', 'H')]\n",
            "['found!', ('T', 'T', 'T', 'H', 'H')]\n"
          ],
          "name": "stdout"
        },
        {
          "output_type": "execute_result",
          "data": {
            "text/plain": [
              "5/8"
            ]
          },
          "metadata": {
            "tags": []
          },
          "execution_count": 2
        }
      ]
    },
    {
      "cell_type": "code",
      "metadata": {
        "id": "fQQuU89LDiWS"
      },
      "source": [
        ""
      ],
      "execution_count": 2,
      "outputs": []
    }
  ]
}