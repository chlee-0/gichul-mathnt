{
 "cells": [
  {
   "cell_type": "markdown",
   "metadata": {},
   "source": [
    "# 2019-수학-가형-홀수-4"
   ]
  },
  {
   "cell_type": "markdown",
   "metadata": {},
   "source": [
    "## 문제\n",
    "![local](../../_static/thumb/049828c75ffccf88c186e72435bc0a1d0be4d20a.png)"
   ]
  },
  {
   "cell_type": "markdown",
   "metadata": {},
   "source": [
    "## 풀이"
   ]
  },
  {
   "cell_type": "code",
   "execution_count": 1,
   "metadata": {},
   "outputs": [],
   "source": [
    "from random import randint\n",
    "from sympy import Rational\n",
    "\n",
    "def random_subset(s):\n",
    "    out = set()\n",
    "    for el in s:                                                                                                                    \n",
    "        # random coin flip\n",
    "        if randint(0, 1) == 0:\n",
    "            out.add(el)\n",
    "    return out\n",
    "\n",
    "\n",
    "def Prob(S):\n",
    "    return Rational(len(S), len(U))\n",
    "\n",
    "\n",
    "def complement(S):\n",
    "    # difference between a global universal set U and the given set a\n",
    "    return U - S\n",
    "\n",
    "\n",
    "def intersection(a,b):\n",
    "    return set(a) & set(b)\n",
    "\n",
    "\n"
   ]
  },
  {
   "cell_type": "code",
   "execution_count": 2,
   "metadata": {},
   "outputs": [
    {
     "name": "stdout",
     "output_type": "stream",
     "text": [
      "[{1, 2, 3}, 1/2]\n"
     ]
    }
   ],
   "source": [
    "U= set(range(1,7))\n",
    "A={1,2}\n",
    "Ac=complement(A)\n",
    "Bnotfound = True;\n",
    "while Bnotfound:\n",
    "    B = random_subset(U)\n",
    "    Bc = complement(B)\n",
    "    if Prob(intersection(A, Bc)) == 0 and Prob(intersection(Ac, B))==Rational(1,6) :\n",
    "        Bnotfound = False;\n",
    "        print([B, Prob(B)])\n",
    "        break"
   ]
  },
  {
   "cell_type": "code",
   "execution_count": null,
   "metadata": {},
   "outputs": [],
   "source": []
  }
 ],
 "metadata": {
  "kernelspec": {
   "display_name": "Python 3",
   "language": "python",
   "name": "python3"
  },
  "language_info": {
   "codemirror_mode": {
    "name": "ipython",
    "version": 3
   },
   "file_extension": ".py",
   "mimetype": "text/x-python",
   "name": "python",
   "nbconvert_exporter": "python",
   "pygments_lexer": "ipython3",
   "version": "3.8.5"
  }
 },
 "nbformat": 4,
 "nbformat_minor": 2
}
