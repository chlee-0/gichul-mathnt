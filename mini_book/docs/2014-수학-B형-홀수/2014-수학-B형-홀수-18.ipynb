{
  "nbformat": 4,
  "nbformat_minor": 0,
  "metadata": {
    "kernelspec": {
      "display_name": "Python 3",
      "language": "python",
      "name": "python3"
    },
    "language_info": {
      "codemirror_mode": {
        "name": "ipython",
        "version": 3
      },
      "file_extension": ".py",
      "mimetype": "text/x-python",
      "name": "python",
      "nbconvert_exporter": "python",
      "pygments_lexer": "ipython3",
      "version": "3.7.3"
    },
    "colab": {
      "name": "2014-수학-B형-홀수-18.ipynb",
      "provenance": []
    }
  },
  "cells": [
    {
      "cell_type": "markdown",
      "metadata": {
        "id": "ndX40niIMO-L"
      },
      "source": [
        "# 2014-수학-B형-홀수-18"
      ]
    },
    {
      "cell_type": "markdown",
      "metadata": {
        "id": "SWEmaGxDMO-Y"
      },
      "source": [
        "## 문제\n",
        "![2014-수학-B형-홀수-18](https://wiki.mathnt.net/img_auth.php/f/fa/1de4b2ca182650dcd78a3164c207a464102dd3d5.png)"
      ]
    },
    {
      "cell_type": "markdown",
      "metadata": {
        "id": "twV3jtkBMO-Z"
      },
      "source": [
        "## 풀이"
      ]
    },
    {
      "cell_type": "code",
      "metadata": {
        "id": "M35apd2XULV5"
      },
      "source": [
        "%%capture\r\n",
        "!pip install --upgrade sympy watermark"
      ],
      "execution_count": 1,
      "outputs": []
    },
    {
      "cell_type": "code",
      "metadata": {
        "id": "u0OM3tEctrHX"
      },
      "source": [
        "from sympy import *"
      ],
      "execution_count": 2,
      "outputs": []
    },
    {
      "cell_type": "code",
      "metadata": {
        "id": "2PtpdE74trHZ"
      },
      "source": [
        "an = symbols('an')"
      ],
      "execution_count": 3,
      "outputs": []
    },
    {
      "cell_type": "markdown",
      "metadata": {
        "id": "WxlXCFb-7u-l"
      },
      "source": [
        "각 자연수 $n$에 대하여, $a_n$은 $\\tan(a_n) = n, \\, a_n\\in ((n-1)\\pi, (n-1/2)\\pi)$을 만족시킨다."
      ]
    },
    {
      "cell_type": "code",
      "metadata": {
        "id": "4rVSMOz12kPR"
      },
      "source": [
        "def a_val(n):\r\n",
        "  expr = sin(an)-n*cos(an)\r\n",
        "  return nsolve(expr, an, N((n-3/4)*pi))"
      ],
      "execution_count": 4,
      "outputs": []
    },
    {
      "cell_type": "markdown",
      "metadata": {
        "id": "YeqxH5EHK2cj"
      },
      "source": [
        "$a_n = (n-1/2)\\pi-\\epsilon_n$라 쓰면, $\\epsilon_n>0$은 0으로 수렴하는 감소수열임을 관찰할 수 있다."
      ]
    },
    {
      "cell_type": "code",
      "metadata": {
        "colab": {
          "base_uri": "https://localhost:8080/"
        },
        "id": "-23oWVM28Ugm",
        "outputId": "1f0e7ed1-3b4d-42be-c0d0-faa8c6eff359"
      },
      "source": [
        "for n in range(1,20):\r\n",
        "  print(N((n-1/2)*pi)-a_val(n))"
      ],
      "execution_count": 5,
      "outputs": [
        {
          "output_type": "stream",
          "text": [
            "0.785398163397448\n",
            "0.463647609000806\n",
            "0.321750554396642\n",
            "0.244978663126863\n",
            "0.197395559849880\n",
            "0.165148677414628\n",
            "0.141897054604165\n",
            "0.124354994546763\n",
            "0.110657221173895\n",
            "0.0996686524911610\n",
            "0.0906598872007436\n",
            "0.0831412318884404\n",
            "0.0767718912697788\n",
            "0.0713074647852849\n",
            "0.0665681637758269\n",
            "0.0624188099959611\n",
            "0.0587558227157245\n",
            "0.0554985052457226\n",
            "0.0525830616109388\n"
          ],
          "name": "stdout"
        }
      ]
    },
    {
      "cell_type": "code",
      "metadata": {
        "id": "vuUK_r_jV8R6",
        "outputId": "af70b096-4c93-41f1-d8da-58700f276c91",
        "colab": {
          "base_uri": "https://localhost:8080/",
          "height": 36
        }
      },
      "source": [
        "a_val(1000)/1000"
      ],
      "execution_count": 6,
      "outputs": [
        {
          "output_type": "execute_result",
          "data": {
            "text/latex": "$\\displaystyle 3.14002085726333$",
            "text/plain": [
              "3.14002085726333"
            ]
          },
          "metadata": {
            "tags": []
          },
          "execution_count": 6
        }
      ]
    },
    {
      "cell_type": "markdown",
      "metadata": {
        "id": "C2_nZ0lCUy41"
      },
      "source": [
        "##scipy를 이용한 수치해\r\n"
      ]
    },
    {
      "cell_type": "code",
      "metadata": {
        "id": "ZJQ_aAJQuw7x"
      },
      "source": [
        "import numpy as np\r\n",
        "from scipy.optimize import fsolve\r\n",
        "\r\n",
        "def a_val2(n):\r\n",
        "  eqn = lambda x : np.tan(x) - n\r\n",
        "  x_initial_guess = (n-3/4)*np.pi\r\n",
        "  x_solution = fsolve(eqn, x_initial_guess)\r\n",
        "  return x_solution[0]\r\n"
      ],
      "execution_count": 7,
      "outputs": []
    },
    {
      "cell_type": "code",
      "metadata": {
        "id": "UnWPa0frQxSx",
        "outputId": "9e90d35f-5809-483d-e710-990bce9a326d",
        "colab": {
          "base_uri": "https://localhost:8080/"
        }
      },
      "source": [
        "a_val2(1000)/1000"
      ],
      "execution_count": 8,
      "outputs": [
        {
          "output_type": "stream",
          "text": [
            "/usr/local/lib/python3.6/dist-packages/scipy/optimize/minpack.py:162: RuntimeWarning: The iteration is not making good progress, as measured by the \n",
            "  improvement from the last five Jacobian evaluations.\n",
            "  warnings.warn(msg, RuntimeWarning)\n"
          ],
          "name": "stderr"
        },
        {
          "output_type": "execute_result",
          "data": {
            "text/plain": [
              "3.0771496834848304"
            ]
          },
          "metadata": {
            "tags": []
          },
          "execution_count": 8
        }
      ]
    },
    {
      "cell_type": "markdown",
      "metadata": {
        "id": "ogoszmSYUPR8"
      },
      "source": [
        "##실행환경"
      ]
    },
    {
      "cell_type": "code",
      "metadata": {
        "id": "YQDMuR-MRids",
        "outputId": "06083ed5-d6cb-467a-d8c7-9eefd10980cd",
        "colab": {
          "base_uri": "https://localhost:8080/"
        }
      },
      "source": [
        "%load_ext watermark\r\n",
        "%watermark -m -v --iversions"
      ],
      "execution_count": 9,
      "outputs": [
        {
          "output_type": "stream",
          "text": [
            "sympy.multipledispatch 0.4.9\n",
            "numpy                  1.19.5\n",
            "sympy.release          1.7.1\n",
            "CPython 3.6.9\n",
            "IPython 5.5.0\n",
            "\n",
            "compiler   : GCC 8.4.0\n",
            "system     : Linux\n",
            "release    : 4.19.112+\n",
            "machine    : x86_64\n",
            "processor  : x86_64\n",
            "CPU cores  : 2\n",
            "interpreter: 64bit\n"
          ],
          "name": "stdout"
        }
      ]
    }
  ]
}