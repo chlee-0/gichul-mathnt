{
 "cells": [
  {
   "cell_type": "markdown",
   "metadata": {},
   "source": [
    "# 2020-수학-가형-홀수-18"
   ]
  },
  {
   "cell_type": "markdown",
   "metadata": {},
   "source": [
    "## 문제\n",
    "![local](../../_static/thumb/39318fecbeb990ab40c76e2e75db35f906065585.png)"
   ]
  },
  {
   "cell_type": "markdown",
   "metadata": {},
   "source": [
    "## 풀이"
   ]
  },
  {
   "cell_type": "code",
   "execution_count": 1,
   "metadata": {},
   "outputs": [],
   "source": [
    "from sympy import *\n",
    "from sympy import stats"
   ]
  },
  {
   "cell_type": "code",
   "execution_count": 2,
   "metadata": {},
   "outputs": [
    {
     "data": {
      "text/latex": [
       "$\\displaystyle \\frac{\\sqrt{2} e^{- \\frac{\\left(- m + x\\right)^{2}}{8}}}{4 \\sqrt{\\pi}}$"
      ],
      "text/plain": [
       "sqrt(2)*exp(-(-m + x)**2/8)/(4*sqrt(pi))"
      ]
     },
     "execution_count": 2,
     "metadata": {},
     "output_type": "execute_result"
    }
   ],
   "source": [
    "m, x = symbols('m x')\n",
    "mean = symbols(\"m\", positive = True) \n",
    "std = 2\n",
    "# Using sympy.stats.Normal() method \n",
    "X = stats.Normal(\"x\", mean, std) \n",
    "pdf = stats.density(X)(x) \n",
    "\n",
    "#pprint(pdf)\n",
    "pdf"
   ]
  },
  {
   "cell_type": "code",
   "execution_count": 3,
   "metadata": {},
   "outputs": [
    {
     "data": {
      "text/latex": [
       "$\\displaystyle \\left[18, 22\\right]$"
      ],
      "text/plain": [
       "Interval(18, 22)"
      ]
     },
     "execution_count": 3,
     "metadata": {},
     "output_type": "execute_result"
    }
   ],
   "source": [
    "solveset(-(12-10)**2 <= -(20-m)**2, m, S.Reals)"
   ]
  },
  {
   "cell_type": "code",
   "execution_count": 4,
   "metadata": {},
   "outputs": [
    {
     "name": "stdout",
     "output_type": "stream",
     "text": [
      "[18, 0.0654573032372280]\n",
      "[19, 0.152445588605681]\n",
      "[20, 0.285787406777808]\n",
      "[21, 0.433192798731142]\n",
      "[22, 0.532807207342556]\n"
     ]
    },
    {
     "data": {
      "text/latex": [
       "$\\displaystyle 0.532807207342556$"
      ],
      "text/plain": [
       "0.532807207342556"
      ]
     },
     "execution_count": 4,
     "metadata": {},
     "output_type": "execute_result"
    }
   ],
   "source": [
    "val = 0\n",
    "for mean in range(18,23):\n",
    "    Y = stats.Normal('Y', mean, 2)\n",
    "    b = stats.P(Y<=24).evalf()\n",
    "    a = stats.P(Y<=21).evalf()\n",
    "    print([mean,b-a])\n",
    "    if b-a>val:\n",
    "        val = b-a\n",
    "val"
   ]
  },
  {
   "cell_type": "code",
   "execution_count": null,
   "metadata": {},
   "outputs": [],
   "source": []
  }
 ],
 "metadata": {
  "kernelspec": {
   "display_name": "Python 3",
   "language": "python",
   "name": "python3"
  },
  "language_info": {
   "codemirror_mode": {
    "name": "ipython",
    "version": 3
   },
   "file_extension": ".py",
   "mimetype": "text/x-python",
   "name": "python",
   "nbconvert_exporter": "python",
   "pygments_lexer": "ipython3",
   "version": "3.7.3"
  }
 },
 "nbformat": 4,
 "nbformat_minor": 2
}
