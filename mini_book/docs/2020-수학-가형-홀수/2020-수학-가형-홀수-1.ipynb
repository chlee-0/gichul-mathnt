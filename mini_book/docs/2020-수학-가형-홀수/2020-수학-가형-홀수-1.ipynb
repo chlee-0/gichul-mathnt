{
  "nbformat": 4,
  "nbformat_minor": 0,
  "metadata": {
    "colab": {
      "name": "2020-수학-가형-홀수-1.ipynb",
      "provenance": []
    },
    "kernelspec": {
      "display_name": "Python 3",
      "language": "python",
      "name": "python3"
    },
    "language_info": {
      "codemirror_mode": {
        "name": "ipython",
        "version": 3
      },
      "file_extension": ".py",
      "mimetype": "text/x-python",
      "name": "python",
      "nbconvert_exporter": "python",
      "pygments_lexer": "ipython3",
      "version": "3.8.5"
    }
  },
  "cells": [
    {
      "cell_type": "markdown",
      "metadata": {
        "id": "KMRejfaMoerw"
      },
      "source": [
        "# 2020-수학-가형-홀수-1"
      ]
    },
    {
      "cell_type": "markdown",
      "metadata": {
        "id": "PHXZqUUToerx"
      },
      "source": [
        "## 문제\n",
        "![2020-수학-가형-홀수-1](https://wiki.mathnt.net/img_auth.php/1/1e/Ae2cbc8b26f2ebe36b1f3a64e78abc9e34eaa73c.png)"
      ]
    },
    {
      "cell_type": "markdown",
      "metadata": {
        "id": "1fhS_4c-oerx"
      },
      "source": [
        "## 풀이"
      ]
    },
    {
      "cell_type": "code",
      "metadata": {
        "id": "kQZftvhongH9"
      },
      "source": [
        "%%capture\r\n",
        "!pip install --upgrade sympy watermark"
      ],
      "execution_count": 1,
      "outputs": []
    },
    {
      "cell_type": "code",
      "metadata": {
        "id": "rZhZEApLoerx"
      },
      "source": [
        "from sympy import *"
      ],
      "execution_count": 2,
      "outputs": []
    },
    {
      "cell_type": "code",
      "metadata": {
        "colab": {
          "base_uri": "https://localhost:8080/",
          "height": 36
        },
        "id": "JBwkU5sKuhvr",
        "outputId": "50c35474-263c-457e-afa4-337af0892695"
      },
      "source": [
        "a = Point(3,1)\n",
        "b = Point(-2,4)\n",
        "c=a+Rational(1,2)*b\n",
        "sum(c[i] for i in range(2))"
      ],
      "execution_count": 3,
      "outputs": [
        {
          "output_type": "execute_result",
          "data": {
            "text/latex": "$\\displaystyle 5$",
            "text/plain": [
              "5"
            ]
          },
          "metadata": {
            "tags": []
          },
          "execution_count": 3
        }
      ]
    },
    {
      "cell_type": "markdown",
      "metadata": {
        "id": "O0PK1_Hrn-1J"
      },
      "source": [
        "##실행환경"
      ]
    },
    {
      "cell_type": "code",
      "metadata": {
        "id": "F0CQrq8feEZ-",
        "colab": {
          "base_uri": "https://localhost:8080/"
        },
        "outputId": "174af49f-7c1f-456b-c51e-59cb8bb40376"
      },
      "source": [
        "%load_ext watermark\r\n",
        "%watermark -m -v --iversions"
      ],
      "execution_count": 4,
      "outputs": [
        {
          "output_type": "stream",
          "text": [
            "sympy.release          1.7.1\n",
            "sympy.multipledispatch 0.4.9\n",
            "CPython 3.6.9\n",
            "IPython 5.5.0\n",
            "\n",
            "compiler   : GCC 8.4.0\n",
            "system     : Linux\n",
            "release    : 4.19.112+\n",
            "machine    : x86_64\n",
            "processor  : x86_64\n",
            "CPU cores  : 2\n",
            "interpreter: 64bit\n"
          ],
          "name": "stdout"
        }
      ]
    }
  ]
}