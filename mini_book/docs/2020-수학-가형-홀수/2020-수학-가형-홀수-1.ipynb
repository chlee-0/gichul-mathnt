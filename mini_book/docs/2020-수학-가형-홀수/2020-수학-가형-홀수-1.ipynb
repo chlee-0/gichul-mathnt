{
  "nbformat": 4,
  "nbformat_minor": 0,
  "metadata": {
    "kernelspec": {
      "display_name": "Python 3",
      "language": "python",
      "name": "python3"
    },
    "language_info": {
      "codemirror_mode": {
        "name": "ipython",
        "version": 3
      },
      "file_extension": ".py",
      "mimetype": "text/x-python",
      "name": "python",
      "nbconvert_exporter": "python",
      "pygments_lexer": "ipython3",
      "version": "3.7.3"
    },
    "colab": {
      "name": "2020-수학-가형-홀수-1.ipynb",
      "provenance": []
    }
  },
  "cells": [
    {
      "cell_type": "markdown",
      "metadata": {
        "id": "KMRejfaMoerw"
      },
      "source": [
        "# 2020-수학-가형-홀수-1"
      ]
    },
    {
      "cell_type": "markdown",
      "metadata": {
        "id": "PHXZqUUToerx"
      },
      "source": [
        "## 문제\n",
        "![local](https://github.com/chlee-0/gichul-mathnt/blob/main/mini_book/_static/thumb/ae2cbc8b26f2ebe36b1f3a64e78abc9e34eaa73c.png?raw=1)"
      ]
    },
    {
      "cell_type": "markdown",
      "metadata": {
        "id": "1fhS_4c-oerx"
      },
      "source": [
        "## 풀이"
      ]
    },
    {
      "cell_type": "code",
      "metadata": {
        "id": "rZhZEApLoerx"
      },
      "source": [
        "from sympy import *"
      ],
      "execution_count": 1,
      "outputs": []
    },
    {
      "cell_type": "code",
      "metadata": {
        "colab": {
          "base_uri": "https://localhost:8080/"
        },
        "id": "JBwkU5sKuhvr",
        "outputId": "3aeb9289-a65c-48e4-815a-635173eeae3c"
      },
      "source": [
        "a = Array([3,1])\n",
        "b = Array([-2,4])\n",
        "c=a+Rational(1,2)*b\n",
        "sum(c[i] for i in range(2))"
      ],
      "execution_count": 2,
      "outputs": [
        {
          "output_type": "execute_result",
          "data": {
            "text/plain": [
              "5"
            ]
          },
          "metadata": {
            "tags": []
          },
          "execution_count": 2
        }
      ]
    },
    {
      "cell_type": "code",
      "metadata": {
        "id": "5fY2z-rEzqh3"
      },
      "source": [
        ""
      ],
      "execution_count": 2,
      "outputs": []
    }
  ]
}