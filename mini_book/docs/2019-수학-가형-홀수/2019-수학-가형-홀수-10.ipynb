{
 "cells": [
  {
   "cell_type": "markdown",
   "metadata": {},
   "source": [
    "# 2019-수학-가형-홀수-10"
   ]
  },
  {
   "cell_type": "markdown",
   "metadata": {},
   "source": [
    "## 문제\n",
    "![2019-수학-가형-홀수-10](https://wiki.mathnt.net/img_auth.php/e/ef/1d52368b42108e85c12fa99f212f09cca0fc0fe5.png)"
   ]
  },
  {
   "cell_type": "markdown",
   "metadata": {},
   "source": [
    "## 풀이"
   ]
  },
  {
   "cell_type": "code",
   "execution_count": 1,
   "metadata": {},
   "outputs": [],
   "source": [
    "from itertools import combinations \n",
    "from sympy import *"
   ]
  },
  {
   "cell_type": "code",
   "execution_count": 2,
   "metadata": {},
   "outputs": [
    {
     "name": "stdout",
     "output_type": "stream",
     "text": [
      "True\n"
     ]
    }
   ],
   "source": [
    "def is_coprime(x, y):\n",
    "    return gcd(x, y) == 1\n",
    "\n",
    "print(is_coprime(17, 13))"
   ]
  },
  {
   "cell_type": "code",
   "execution_count": 3,
   "metadata": {},
   "outputs": [
    {
     "name": "stdout",
     "output_type": "stream",
     "text": [
      "[2, 3, True]\n",
      "[2, 4, False]\n",
      "[2, 5, True]\n",
      "[2, 6, False]\n",
      "[2, 7, True]\n",
      "[2, 8, False]\n",
      "[3, 4, True]\n",
      "[3, 5, True]\n",
      "[3, 6, False]\n",
      "[3, 7, True]\n",
      "[3, 8, True]\n",
      "[4, 5, True]\n",
      "[4, 6, False]\n",
      "[4, 7, True]\n",
      "[4, 8, False]\n",
      "[5, 6, True]\n",
      "[5, 7, True]\n",
      "[5, 8, True]\n",
      "[6, 7, True]\n",
      "[6, 8, False]\n",
      "[7, 8, True]\n"
     ]
    },
    {
     "data": {
      "text/latex": [
       "$\\displaystyle \\frac{2}{3}$"
      ],
      "text/plain": [
       "2/3"
      ]
     },
     "execution_count": 3,
     "metadata": {},
     "output_type": "execute_result"
    }
   ],
   "source": [
    "balls = range(2,9) \n",
    "how_many = 2\n",
    "\n",
    "com = combinations(balls, how_many)\n",
    "\n",
    "count = 0\n",
    "total = 0\n",
    "for event in com:\n",
    "    print([*event, is_coprime(*event)])\n",
    "    if is_coprime(*event):\n",
    "        count += 1\n",
    "    total +=1\n",
    "Rational(count,total)    "
   ]
  },
  {
   "cell_type": "code",
   "execution_count": null,
   "metadata": {},
   "outputs": [],
   "source": []
  }
 ],
 "metadata": {
  "kernelspec": {
   "display_name": "Python 3",
   "language": "python",
   "name": "python3"
  },
  "language_info": {
   "codemirror_mode": {
    "name": "ipython",
    "version": 3
   },
   "file_extension": ".py",
   "mimetype": "text/x-python",
   "name": "python",
   "nbconvert_exporter": "python",
   "pygments_lexer": "ipython3",
   "version": "3.8.5"
  }
 },
 "nbformat": 4,
 "nbformat_minor": 2
}
