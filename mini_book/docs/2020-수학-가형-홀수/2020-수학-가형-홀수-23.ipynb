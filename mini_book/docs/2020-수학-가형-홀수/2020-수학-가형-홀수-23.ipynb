{
 "cells": [
  {
   "cell_type": "markdown",
   "metadata": {},
   "source": [
    "# 2020-수학-가형-홀수-23"
   ]
  },
  {
   "cell_type": "markdown",
   "metadata": {},
   "source": [
    "## 문제\n",
    "![local](../../_static/thumb/36726d53ebfd0ce1a8a2f7c0a016cba7d4325a6d.png)"
   ]
  },
  {
   "cell_type": "markdown",
   "metadata": {},
   "source": [
    "## 풀이"
   ]
  },
  {
   "cell_type": "code",
   "execution_count": 1,
   "metadata": {},
   "outputs": [],
   "source": [
    "from sympy import *\n",
    "from sympy import stats"
   ]
  },
  {
   "cell_type": "code",
   "execution_count": 2,
   "metadata": {},
   "outputs": [],
   "source": [
    "p = symbols('p')\n",
    "X = stats.Binomial('X', 80, p) \n",
    "E_X=stats.E(X)\n",
    "E_X = simplify(E_X)"
   ]
  },
  {
   "cell_type": "code",
   "execution_count": 3,
   "metadata": {},
   "outputs": [
    {
     "data": {
      "text/plain": [
       "[1/4]"
      ]
     },
     "execution_count": 3,
     "metadata": {},
     "output_type": "execute_result"
    }
   ],
   "source": [
    "solve(E_X-20,p)"
   ]
  },
  {
   "cell_type": "code",
   "execution_count": 4,
   "metadata": {},
   "outputs": [
    {
     "data": {
      "text/latex": [
       "$\\displaystyle 20.0$"
      ],
      "text/plain": [
       "20.0000000000000"
      ]
     },
     "execution_count": 4,
     "metadata": {},
     "output_type": "execute_result"
    }
   ],
   "source": [
    "X = X.subs(p,1/4)\n",
    "stats.E(X)"
   ]
  },
  {
   "cell_type": "code",
   "execution_count": 5,
   "metadata": {},
   "outputs": [
    {
     "data": {
      "text/plain": [
       "{0: 1.01134905113267e-10,\n",
       " 1: 2.69693080302047e-9,\n",
       " 2: 3.55095889064361e-8,\n",
       " 3: 3.07749770522447e-7,\n",
       " 4: 1.97472769418570e-6,\n",
       " 5: 1.00052869838742e-5,\n",
       " 6: 4.16886957661425e-5,\n",
       " 7: 0.000146903023175931,\n",
       " 8: 0.000446830028826789,\n",
       " 9: 0.00119154674353811,\n",
       " 10: 0.00281999395970685,\n",
       " 11: 0.00598180536907513,\n",
       " 12: 0.0114651269573940,\n",
       " 13: 0.0199904777718665,\n",
       " 14: 0.0318895716836918,\n",
       " 15: 0.0467713718027479,\n",
       " 16: 0.0633362326495545,\n",
       " 17: 0.0794807625406174,\n",
       " 18: 0.0927275562973870,\n",
       " 19: 0.100861552463824,\n",
       " 20: 0.102542578338221,\n",
       " 21: 0.0976595984173538,\n",
       " 22: 0.0873017622215738,\n",
       " 23: 0.0733840899833519,\n",
       " 24: 0.0580957379034869,\n",
       " 25: 0.0433781509679369,\n",
       " 26: 0.0305871577338017,\n",
       " 27: 0.0203914384892011,\n",
       " 28: 0.0128660266658055,\n",
       " 29: 0.00769003892668832,\n",
       " 30: 0.00435768872512338,\n",
       " 31: 0.00234284340060397,\n",
       " 32: 0.00119582631905828,\n",
       " 33: 0.000579794578937346,\n",
       " 34: 0.000267160247157404,\n",
       " 35: 0.000117041632088006,\n",
       " 36: 4.87673467033357e-5,\n",
       " 37: 1.93312004950160e-5,\n",
       " 38: 7.29159316917269e-6,\n",
       " 39: 2.61749498380558e-6,\n",
       " 40: 8.94310786133574e-7,\n",
       " 41: 2.90832775978398e-7,\n",
       " 42: 9.00196687552184e-8,\n",
       " 43: 2.65174218038628e-8,\n",
       " 44: 7.43291368744639e-9,\n",
       " 45: 1.98211031665237e-9,\n",
       " 46: 5.02709138281398e-10,\n",
       " 47: 1.21220643273529e-10,\n",
       " 48: 2.77797307501836e-11,\n",
       " 49: 6.04728832657059e-12,\n",
       " 50: 1.24977292082459e-12,\n",
       " 51: 2.45053513887174e-13,\n",
       " 52: 4.55548198892824e-14,\n",
       " 53: 8.02223243333275e-15,\n",
       " 54: 1.33703873888879e-15,\n",
       " 55: 2.10684892188537e-16,\n",
       " 56: 3.13519184804370e-17,\n",
       " 57: 4.40026926041221e-18,\n",
       " 58: 5.81644787295867e-19,\n",
       " 59: 7.22948323192603e-20,\n",
       " 60: 8.43439710391371e-21,\n",
       " 61: 9.21792033214613e-22,\n",
       " 62: 9.41615517799873e-23,\n",
       " 63: 8.96776683618927e-24,\n",
       " 64: 7.94021021954258e-25,\n",
       " 65: 6.51504428270161e-26,\n",
       " 66: 4.93563960810728e-27,\n",
       " 67: 3.43775893101999e-28,\n",
       " 68: 2.19072873055196e-29,\n",
       " 69: 1.26998766988519e-30,\n",
       " 70: 6.65231636606529e-32,\n",
       " 71: 3.12315322350483e-33,\n",
       " 72: 1.30131384312701e-34,\n",
       " 73: 4.75365787443658e-36,\n",
       " 74: 1.49890113157910e-37,\n",
       " 75: 3.99706968421094e-39,\n",
       " 76: 8.76550369344504e-41,\n",
       " 77: 1.51783613739308e-42,\n",
       " 78: 1.94594376588856e-44,\n",
       " 79: 1.64214663788065e-46,\n",
       " 80: 6.84227765783602e-49}"
      ]
     },
     "execution_count": 5,
     "metadata": {},
     "output_type": "execute_result"
    }
   ],
   "source": [
    "binDist = stats.density(X).dict\n",
    "binDist"
   ]
  },
  {
   "cell_type": "code",
   "execution_count": 6,
   "metadata": {},
   "outputs": [],
   "source": [
    "def variance(X):\n",
    "    m = stats.E(X)\n",
    "    binDist = stats.density(X).dict\n",
    "    return sum([binDist[x]*(x-m)**2 for x in range(len(binDist))])"
   ]
  },
  {
   "cell_type": "code",
   "execution_count": 7,
   "metadata": {},
   "outputs": [
    {
     "data": {
      "text/latex": [
       "$\\displaystyle 15.0$"
      ],
      "text/plain": [
       "15.0000000000000"
      ]
     },
     "execution_count": 7,
     "metadata": {},
     "output_type": "execute_result"
    }
   ],
   "source": [
    "variance(X)"
   ]
  },
  {
   "cell_type": "markdown",
   "metadata": {},
   "source": [
    "### 히스토그램"
   ]
  },
  {
   "cell_type": "code",
   "execution_count": 8,
   "metadata": {},
   "outputs": [
    {
     "data": {
      "image/png": "[encoded data removed]",
      "text/plain": [
       "<Figure size 432x288 with 1 Axes>"
      ]
     },
     "metadata": {
      "needs_background": "light"
     },
     "output_type": "display_data"
    }
   ],
   "source": [
    "from numpy import random\n",
    "import matplotlib.pyplot as plt\n",
    "import seaborn as sns\n",
    "\n",
    "sns.histplot(random.binomial(n=80, p=0.25, size=10000), kde=True)\n",
    "plt.show()"
   ]
  },
  {
   "cell_type": "code",
   "execution_count": null,
   "metadata": {},
   "outputs": [],
   "source": []
  }
 ],
 "metadata": {
  "kernelspec": {
   "display_name": "Python 3",
   "language": "python",
   "name": "python3"
  },
  "language_info": {
   "codemirror_mode": {
    "name": "ipython",
    "version": 3
   },
   "file_extension": ".py",
   "mimetype": "text/x-python",
   "name": "python",
   "nbconvert_exporter": "python",
   "pygments_lexer": "ipython3",
   "version": "3.8.5"
  }
 },
 "nbformat": 4,
 "nbformat_minor": 2
}
