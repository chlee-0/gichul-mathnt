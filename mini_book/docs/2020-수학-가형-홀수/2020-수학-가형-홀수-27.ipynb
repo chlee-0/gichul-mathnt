{
 "cells": [
  {
   "cell_type": "markdown",
   "metadata": {},
   "source": [
    "# 2020-수학-가형-홀수-27"
   ]
  },
  {
   "cell_type": "markdown",
   "metadata": {},
   "source": [
    "## 문제\n",
    "![2020-수학-가형-홀수-27](https://wiki.mathnt.net/img_auth.php/0/00/B8d678a79cf1a77e5cb48b89f71c28886e902363.png)"
   ]
  },
  {
   "cell_type": "markdown",
   "metadata": {},
   "source": [
    "## 풀이"
   ]
  },
  {
   "cell_type": "code",
   "execution_count": 1,
   "metadata": {},
   "outputs": [],
   "source": [
    "from sympy import *"
   ]
  },
  {
   "cell_type": "code",
   "execution_count": 2,
   "metadata": {},
   "outputs": [],
   "source": [
    "x, z = symbols('x z')\n",
    "a = Point(-4*cos(pi/6),0,0)\n",
    "b = Point(0,-4*sin(pi/6),0)\n",
    "c = -a\n",
    "d = -b\n",
    "m=(c+b)/2\n",
    "n=(c+d)/2\n",
    "p = Point(x,0,z)"
   ]
  },
  {
   "cell_type": "code",
   "execution_count": 3,
   "metadata": {},
   "outputs": [],
   "source": [
    "s, t = symbols('s t')\n",
    "q = s*a+(1-s)*m\n",
    "r = s*a+(1-s)*n"
   ]
  },
  {
   "cell_type": "code",
   "execution_count": 4,
   "metadata": {},
   "outputs": [
    {
     "data": {
      "text/plain": [
       "[2/7]"
      ]
     },
     "execution_count": 4,
     "metadata": {},
     "output_type": "execute_result"
    }
   ],
   "source": [
    "solve((m-a).dot(b-q),s)"
   ]
  },
  {
   "cell_type": "code",
   "execution_count": 5,
   "metadata": {},
   "outputs": [
    {
     "data": {
      "text/plain": [
       "[Point3D(sqrt(3)/7, -5/7, 0), Point3D(sqrt(3)/7, 5/7, 0)]"
      ]
     },
     "execution_count": 5,
     "metadata": {},
     "output_type": "execute_result"
    }
   ],
   "source": [
    "q=q.subs(s,Rational(2,7))\n",
    "r=r.subs(s,Rational(2,7))\n",
    "[q,r]"
   ]
  },
  {
   "cell_type": "code",
   "execution_count": 6,
   "metadata": {},
   "outputs": [
    {
     "data": {
      "text/plain": [
       "[2*sqrt(3)/9]"
      ]
     },
     "execution_count": 6,
     "metadata": {},
     "output_type": "execute_result"
    }
   ],
   "source": [
    "x_sol=solve((p-q).dot(a-m),x)\n",
    "x_sol"
   ]
  },
  {
   "cell_type": "code",
   "execution_count": 7,
   "metadata": {},
   "outputs": [
    {
     "data": {
      "text/plain": [
       "[-4*sqrt(6)/9, 4*sqrt(6)/9]"
      ]
     },
     "execution_count": 7,
     "metadata": {},
     "output_type": "execute_result"
    }
   ],
   "source": [
    "eqn = Eq(p.distance(q),b.distance(q)).subs(x,x_sol[0])\n",
    "z_sol = solve(eqn,z)\n",
    "z_sol"
   ]
  },
  {
   "cell_type": "code",
   "execution_count": 8,
   "metadata": {},
   "outputs": [
    {
     "data": {
      "text/latex": [
       "$\\displaystyle 3 \\sqrt{3}$"
      ],
      "text/plain": [
       "3*sqrt(3)"
      ]
     },
     "execution_count": 8,
     "metadata": {},
     "output_type": "execute_result"
    }
   ],
   "source": [
    "area_amn = Triangle(a, m, n).area\n",
    "area_amn"
   ]
  },
  {
   "cell_type": "code",
   "execution_count": 9,
   "metadata": {},
   "outputs": [
    {
     "data": {
      "text/plain": [
       "(2*sqrt(3)/9, 0, 4*sqrt(6)/9)"
      ]
     },
     "execution_count": 9,
     "metadata": {},
     "output_type": "execute_result"
    }
   ],
   "source": [
    "p = (x_sol[0],0,z_sol[1])\n",
    "p"
   ]
  },
  {
   "cell_type": "code",
   "execution_count": 10,
   "metadata": {},
   "outputs": [
    {
     "data": {
      "text/latex": [
       "$\\displaystyle Point3D\\left(- \\frac{\\sqrt{2}}{9}, - \\frac{\\sqrt{6}}{3}, \\frac{5}{9}\\right)$"
      ],
      "text/plain": [
       "Point3D(-sqrt(2)/9, -sqrt(6)/3, 5/9)"
      ]
     },
     "execution_count": 10,
     "metadata": {},
     "output_type": "execute_result"
    }
   ],
   "source": [
    "normal_pam = Point(Plane(p,a,m).normal_vector)\n",
    "normal_pam = normal_pam/(normal_pam.distance(Point(0,0,0)))\n",
    "normal_pam"
   ]
  },
  {
   "cell_type": "code",
   "execution_count": 11,
   "metadata": {},
   "outputs": [
    {
     "data": {
      "text/latex": [
       "$\\displaystyle \\frac{5 \\sqrt{3}}{3}$"
      ],
      "text/plain": [
       "5*sqrt(3)/3"
      ]
     },
     "execution_count": 11,
     "metadata": {},
     "output_type": "execute_result"
    }
   ],
   "source": [
    "area_amn*normal_pam[2]"
   ]
  },
  {
   "cell_type": "code",
   "execution_count": null,
   "metadata": {},
   "outputs": [],
   "source": []
  }
 ],
 "metadata": {
  "kernelspec": {
   "display_name": "Python 3",
   "language": "python",
   "name": "python3"
  },
  "language_info": {
   "codemirror_mode": {
    "name": "ipython",
    "version": 3
   },
   "file_extension": ".py",
   "mimetype": "text/x-python",
   "name": "python",
   "nbconvert_exporter": "python",
   "pygments_lexer": "ipython3",
   "version": "3.8.5"
  }
 },
 "nbformat": 4,
 "nbformat_minor": 2
}
