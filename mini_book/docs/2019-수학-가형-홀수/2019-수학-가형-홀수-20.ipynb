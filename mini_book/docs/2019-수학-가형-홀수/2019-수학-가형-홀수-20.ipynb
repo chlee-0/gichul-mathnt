{
  "nbformat": 4,
  "nbformat_minor": 0,
  "metadata": {
    "kernelspec": {
      "display_name": "Python 3",
      "language": "python",
      "name": "python3"
    },
    "language_info": {
      "codemirror_mode": {
        "name": "ipython",
        "version": 3
      },
      "file_extension": ".py",
      "mimetype": "text/x-python",
      "name": "python",
      "nbconvert_exporter": "python",
      "pygments_lexer": "ipython3",
      "version": "3.7.3"
    },
    "colab": {
      "name": "2019-수학-가형-홀수-20.ipynb",
      "provenance": []
    }
  },
  "cells": [
    {
      "cell_type": "markdown",
      "metadata": {
        "id": "vE195ZkVwsP0"
      },
      "source": [
        "# 2019-수학-가형-홀수-20"
      ]
    },
    {
      "cell_type": "markdown",
      "metadata": {
        "id": "nhw11tXewsQC"
      },
      "source": [
        "## 문제\n",
        "![2019-수학-가형-홀수-20](https://wiki.mathnt.net/img_auth.php/f/f1/5568c4ef65ce602d26214496773f5a83bc9b3c9e.png)"
      ]
    },
    {
      "cell_type": "markdown",
      "metadata": {
        "id": "vlKS2ZIZtrHX"
      },
      "source": [
        "## 풀이"
      ]
    },
    {
      "cell_type": "code",
      "metadata": {
        "id": "u0OM3tEctrHX"
      },
      "source": [
        "from sympy import *"
      ],
      "execution_count": 1,
      "outputs": []
    },
    {
      "cell_type": "code",
      "metadata": {
        "id": "2PtpdE74trHZ"
      },
      "source": [
        "an, x, y = symbols('an x y')"
      ],
      "execution_count": 2,
      "outputs": []
    },
    {
      "cell_type": "markdown",
      "metadata": {
        "id": "yeIesaGQ2UQf"
      },
      "source": [
        "점 $(a_n, \\sin a_n)$에서의 접선의 방정식은 다음과 같다:"
      ]
    },
    {
      "cell_type": "code",
      "metadata": {
        "id": "V8aXacmL1KqM",
        "outputId": "ce32a048-c6d4-42b9-becd-bb5f916b03ad",
        "colab": {
          "base_uri": "https://localhost:8080/"
        }
      },
      "source": [
        "slope = diff(sin(x), x).subs(x,an)\r\n",
        "tangent_eqn = slope*(x-an) +sin(an) - y\r\n",
        "tangent_eqn"
      ],
      "execution_count": 3,
      "outputs": [
        {
          "output_type": "execute_result",
          "data": {
            "text/plain": [
              "-y + (-an + x)*cos(an) + sin(an)"
            ]
          },
          "metadata": {
            "tags": []
          },
          "execution_count": 3
        }
      ]
    },
    {
      "cell_type": "markdown",
      "metadata": {
        "id": "vygrXWYt7Gvr"
      },
      "source": [
        "접선의 방정식이 점 $(-\\pi/2,0)$을 지나므로, $a_n$은 다음 관계식을 만족한다:"
      ]
    },
    {
      "cell_type": "code",
      "metadata": {
        "id": "a9olqNq213kG",
        "outputId": "70edf965-98f7-432d-e289-63712f481523",
        "colab": {
          "base_uri": "https://localhost:8080/"
        }
      },
      "source": [
        "expr = tangent_eqn.subs({x:-pi/2, y:0})\r\n",
        "expr"
      ],
      "execution_count": 4,
      "outputs": [
        {
          "output_type": "execute_result",
          "data": {
            "text/plain": [
              "(-an - pi/2)*cos(an) + sin(an)"
            ]
          },
          "metadata": {
            "tags": []
          },
          "execution_count": 4
        }
      ]
    },
    {
      "cell_type": "markdown",
      "metadata": {
        "id": "WxlXCFb-7u-l"
      },
      "source": [
        "각 자연수 $n$에 대하여, $a_n$은 $(-a_n - \\pi/2)\\cos(a_n) + \\sin(a_n)=0, \\, a_n\\in ((n-1)\\pi, n\\pi)$을 만족시킨다."
      ]
    },
    {
      "cell_type": "code",
      "metadata": {
        "id": "4rVSMOz12kPR"
      },
      "source": [
        "def a_val(n):\r\n",
        "  #구간 ((n−1)*Pi,n*Pi)의 중심인 (2*n-1)*pi/2) 근방의 수치해를 구한다 \r\n",
        "  return nsolve(expr, an, N((2*n-1)*pi/2))"
      ],
      "execution_count": 5,
      "outputs": []
    },
    {
      "cell_type": "code",
      "metadata": {
        "id": "-23oWVM28Ugm",
        "outputId": "c04b98d3-0780-477f-9ecc-bdbe4c5d5836",
        "colab": {
          "base_uri": "https://localhost:8080/"
        }
      },
      "source": [
        "for n in range(1,20):\r\n",
        "  print(N((2*n-1)*pi/2)-a_val(n))"
      ],
      "execution_count": 6,
      "outputs": [
        {
          "output_type": "stream",
          "text": [
            "0.343206607805906\n",
            "0.161934840281518\n",
            "0.106911498978314\n",
            "0.0799162191353915\n",
            "0.0638348976159389\n",
            "0.0531515553286042\n",
            "0.0455356951475103\n",
            "0.0398308166062478\n",
            "0.0353973070478659\n",
            "0.0318525180080762\n",
            "0.0289534340256594\n",
            "0.0265382779645478\n",
            "0.0244951700327363\n",
            "0.0227442613616091\n",
            "0.0212270334845499\n",
            "0.0198996198622510\n",
            "0.0187284893008552\n",
            "0.0176875707976407\n",
            "0.0167562877655456\n"
          ],
          "name": "stdout"
        }
      ]
    },
    {
      "cell_type": "markdown",
      "metadata": {
        "id": "YeqxH5EHK2cj"
      },
      "source": [
        "$a_n = \\frac{(2n-1)\\pi}{2}-\\epsilon_n$라 쓰면, $\\epsilon_n>0$은 0으로 수렴하는 감소수열임을 관찰할 수 있다."
      ]
    },
    {
      "cell_type": "markdown",
      "metadata": {
        "id": "gr26tEGv5Dl6"
      },
      "source": [
        "ㄱ."
      ]
    },
    {
      "cell_type": "code",
      "metadata": {
        "id": "K-SgcGxw5Gm4",
        "outputId": "4959bf3b-c81e-4b7f-ba79-08bc957c4916",
        "colab": {
          "base_uri": "https://localhost:8080/"
        }
      },
      "source": [
        "for n in range(1,30):\r\n",
        "  print(tan(a_val(n))-a_val(n)-N(pi/2))"
      ],
      "execution_count": 7,
      "outputs": [
        {
          "output_type": "stream",
          "text": [
            "8.88178419700125e-16\n",
            "9.76996261670138e-15\n",
            "4.44089209850063e-15\n",
            "-6.03961325396085e-14\n",
            "-2.07833750209829e-13\n",
            "-2.82440737464640e-13\n",
            "-6.02184968556685e-13\n",
            "1.03206332369155e-12\n",
            "8.22453216642316e-13\n",
            "-1.66799907219684e-12\n",
            "2.84394729987980e-12\n",
            "2.48157050464215e-12\n",
            "-4.79438710954128e-12\n",
            "2.60236276972137e-12\n",
            "-3.24540394558426e-12\n",
            "6.91535717578518e-12\n",
            "3.13526982154144e-12\n",
            "6.12843109593086e-13\n",
            "2.19735341033811e-12\n",
            "7.87458986906131e-12\n",
            "1.44897427389878e-11\n",
            "-2.39079867014880e-11\n",
            "3.06332736954573e-11\n",
            "-2.13784545621820e-11\n",
            "3.41859873742578e-11\n",
            "-2.12079243055996e-11\n",
            "7.62057084102707e-13\n",
            "2.27178276190898e-11\n",
            "1.46886947050007e-11\n"
          ],
          "name": "stdout"
        }
      ]
    },
    {
      "cell_type": "markdown",
      "metadata": {
        "id": "hbBOtnsz5BdJ"
      },
      "source": [
        "ㄴ."
      ]
    },
    {
      "cell_type": "code",
      "metadata": {
        "id": "Feu0g1Sg4s5C",
        "outputId": "ea0970ca-f98b-4442-d378-1612e30c8465",
        "colab": {
          "base_uri": "https://localhost:8080/"
        }
      },
      "source": [
        "for n in range(1,30):\r\n",
        "  print(tan(a_val(n+2))-tan(a_val(n))-N(2*pi))"
      ],
      "execution_count": 8,
      "outputs": [
        {
          "output_type": "stream",
          "text": [
            "0.236295108827596\n",
            "0.0820186211460561\n",
            "0.0430766013621628\n",
            "0.0267646638065671\n",
            "0.0182992024680360\n",
            "0.0133207387236709\n",
            "0.0101383881010690\n",
            "0.00797829859547150\n",
            "0.00644387302422800\n",
            "0.00531424004767445\n",
            "0.00445826398528482\n",
            "0.00379401660305945\n",
            "0.00326813654973535\n",
            "0.00284464150367825\n",
            "0.00249854419007534\n",
            "0.00221204905830774\n",
            "0.00197220153437172\n",
            "0.00176938798246340\n",
            "0.00159635178234652\n",
            "0.00144753179616686\n",
            "0.00131860814368423\n",
            "0.00120618337671630\n",
            "0.00110755606861090\n",
            "0.00102055613471208\n",
            "0.000943424163075690\n",
            "0.000874721688028046\n",
            "0.000813262923465174\n",
            "0.000758063787365870\n",
            "0.000708302019098994\n"
          ],
          "name": "stdout"
        }
      ]
    },
    {
      "cell_type": "markdown",
      "metadata": {
        "id": "9p8TMHlj5j71"
      },
      "source": [
        "ㄷ."
      ]
    },
    {
      "cell_type": "code",
      "metadata": {
        "id": "QFOQHiDl5lfg",
        "outputId": "e4729094-f14c-48a2-ede9-095295b60c31",
        "colab": {
          "base_uri": "https://localhost:8080/"
        }
      },
      "source": [
        "for n in range(1,30):\r\n",
        "  print(a_val(n+1)+a_val(n+2)-a_val(n)-a_val(n+3))"
      ],
      "execution_count": 9,
      "outputs": [
        {
          "output_type": "stream",
          "text": [
            "0.154276487681466\n",
            "0.0389420197837520\n",
            "0.0163119375555851\n",
            "0.00846546133835702\n",
            "0.00497846374607391\n",
            "0.00318235062271199\n",
            "0.00216008950146929\n",
            "0.00153442557596151\n",
            "0.00112963297868163\n",
            "0.000855976050601726\n",
            "0.000664247389984496\n",
            "0.000525880054745187\n",
            "0.000423495048821110\n",
            "0.000346097315663485\n",
            "0.000286495119084407\n",
            "0.000239847529293513\n",
            "0.000202813560107984\n",
            "0.000173036205140420\n",
            "0.000148819942097589\n",
            "0.000128923700401629\n",
            "0.000112424753368146\n",
            "9.86273091285739e-5\n",
            "8.69999305166402e-5\n",
            "7.71319380419300e-5\n",
            "6.87025523973261e-5\n",
            "6.14587345637574e-5\n",
            "5.51990580959227e-5\n",
            "4.97618269719169e-5\n",
            "4.50162210654526e-5\n"
          ],
          "name": "stdout"
        }
      ]
    },
    {
      "cell_type": "code",
      "metadata": {
        "id": "ZJQ_aAJQuw7x"
      },
      "source": [
        ""
      ],
      "execution_count": 9,
      "outputs": []
    }
  ]
}