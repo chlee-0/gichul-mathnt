{
  "nbformat": 4,
  "nbformat_minor": 0,
  "metadata": {
    "kernelspec": {
      "display_name": "Python 3",
      "language": "python",
      "name": "python3"
    },
    "language_info": {
      "codemirror_mode": {
        "name": "ipython",
        "version": 3
      },
      "file_extension": ".py",
      "mimetype": "text/x-python",
      "name": "python",
      "nbconvert_exporter": "python",
      "pygments_lexer": "ipython3",
      "version": "3.7.3"
    },
    "colab": {
      "name": "2019-수학-가형-홀수-27.ipynb",
      "provenance": []
    }
  },
  "cells": [
    {
      "cell_type": "markdown",
      "metadata": {
        "id": "mrZB1-1sMBLa"
      },
      "source": [
        "# 2019-수학-가형-홀수-27"
      ]
    },
    {
      "cell_type": "markdown",
      "metadata": {
        "id": "WdCT0k9KMBSP"
      },
      "source": [
        "## 문제\n",
        "![2019-수학-가형-홀수-27](https://wiki.mathnt.net/img_auth.php/5/52/Cf9067f11e8179174b7af5605160bb9c83c55932.png)"
      ]
    },
    {
      "cell_type": "markdown",
      "metadata": {
        "id": "mSKhgQZnMBSR"
      },
      "source": [
        "## 풀이"
      ]
    },
    {
      "cell_type": "code",
      "metadata": {
        "id": "2XIvTcy3MBSS"
      },
      "source": [
        "from sympy import Rational, divisors"
      ],
      "execution_count": 1,
      "outputs": []
    },
    {
      "cell_type": "code",
      "metadata": {
        "id": "sVJ336rONbXe"
      },
      "source": [
        "U = [1,2,3,4,5,6]\r\n",
        "\r\n",
        "def Prob(S):\r\n",
        "    return Rational(len(S), len(U))\r\n",
        "\r\n",
        "\r\n",
        "def intersection(a,b):\r\n",
        "    return set(a) & set(b)"
      ],
      "execution_count": 2,
      "outputs": []
    },
    {
      "cell_type": "code",
      "metadata": {
        "id": "Mhaph-R-Mb5F",
        "outputId": "2ae77743-e0fe-4edf-cfba-1a6eb57cd04e",
        "colab": {
          "base_uri": "https://localhost:8080/"
        }
      },
      "source": [
        "A = [2,4,6]\r\n",
        "ans = 0 \r\n",
        "for m in U:\r\n",
        "  B = divisors(m)\r\n",
        "  if Prob(A)*Prob(B) == Prob(intersection(A,B)):\r\n",
        "    print([m, B])\r\n",
        "    ans+=m\r\n",
        "\r\n",
        "ans"
      ],
      "execution_count": 3,
      "outputs": [
        {
          "output_type": "stream",
          "text": [
            "[2, [1, 2]]\n",
            "[6, [1, 2, 3, 6]]\n"
          ],
          "name": "stdout"
        },
        {
          "output_type": "execute_result",
          "data": {
            "text/plain": [
              "8"
            ]
          },
          "metadata": {
            "tags": []
          },
          "execution_count": 3
        }
      ]
    },
    {
      "cell_type": "code",
      "metadata": {
        "id": "J7wa_pHvNP7V"
      },
      "source": [
        ""
      ],
      "execution_count": 3,
      "outputs": []
    }
  ]
}