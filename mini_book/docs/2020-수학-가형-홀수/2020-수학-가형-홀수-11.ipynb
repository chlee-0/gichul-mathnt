{
 "cells": [
  {
   "cell_type": "markdown",
   "metadata": {},
   "source": [
    "# 2020-수학-가형-홀수-11"
   ]
  },
  {
   "cell_type": "markdown",
   "metadata": {},
   "source": [
    "## 문제\n",
    "![2020-수학-가형-홀수-11](https://wiki.mathnt.net/img_auth.php/b/bf/8c45b82f88fd6e7c60fd1aa3121cfdb465a67d2b.png)"
   ]
  },
  {
   "cell_type": "markdown",
   "metadata": {},
   "source": [
    "## 풀이"
   ]
  },
  {
   "cell_type": "code",
   "execution_count": 1,
   "metadata": {},
   "outputs": [],
   "source": [
    "from sympy import *"
   ]
  },
  {
   "cell_type": "code",
   "execution_count": 2,
   "metadata": {},
   "outputs": [],
   "source": [
    "a, x = symbols('a x')"
   ]
  },
  {
   "cell_type": "code",
   "execution_count": 27,
   "metadata": {},
   "outputs": [
    {
     "data": {
      "text/latex": [
       "$\\displaystyle 2 a + 8 \\sin{\\left(2 x \\right)}$"
      ],
      "text/plain": [
       "2*a + 8*sin(2*x)"
      ]
     },
     "execution_count": 27,
     "metadata": {},
     "output_type": "execute_result"
    }
   ],
   "source": [
    "first_der = diff(a*x**2-2*sin(2*x),x)\n",
    "second_der = diff(first_der,x)\n",
    "second_der"
   ]
  },
  {
   "cell_type": "code",
   "execution_count": 33,
   "metadata": {},
   "outputs": [
    {
     "name": "stdout",
     "output_type": "stream",
     "text": [
      "[-10, False, Interval(-27.9999216524056, -12.0000783475944)]\n",
      "[-9, False, Interval(-25.9999216524056, -10.0000783475944)]\n",
      "[-8, False, Interval(-23.9999216524056, -8.00007834759437)]\n",
      "[-7, False, Interval(-21.9999216524056, -6.00007834759437)]\n",
      "[-6, False, Interval(-19.9999216524056, -4.00007834759437)]\n",
      "[-5, False, Interval(-17.9999216524056, -2.00007834759437)]\n",
      "[-4, False, Interval(-15.9999216524056, -0.0000783475943721967)]\n",
      "[-3, True, Interval(-13.9999216524056, 1.99992165240563)]\n",
      "[-2, True, Interval(-11.9999216524056, 3.99992165240563)]\n",
      "[-1, True, Interval(-9.99992165240563, 5.99992165240563)]\n",
      "[0, True, Interval(-7.99992165240563, 7.99992165240563)]\n",
      "[1, True, Interval(-5.99992165240563, 9.99992165240563)]\n",
      "[2, True, Interval(-3.99992165240563, 11.9999216524056)]\n",
      "[3, True, Interval(-1.99992165240563, 13.9999216524056)]\n",
      "[4, False, Interval(0.0000783475943721967, 15.9999216524056)]\n",
      "[5, False, Interval(2.00007834759437, 17.9999216524056)]\n",
      "[6, False, Interval(4.00007834759437, 19.9999216524056)]\n",
      "[7, False, Interval(6.00007834759437, 21.9999216524056)]\n",
      "[8, False, Interval(8.00007834759437, 23.9999216524056)]\n",
      "[9, False, Interval(10.0000783475944, 25.9999216524056)]\n"
     ]
    },
    {
     "data": {
      "text/plain": [
       "7"
      ]
     },
     "execution_count": 33,
     "metadata": {},
     "output_type": "execute_result"
    }
   ],
   "source": [
    "count = 0\n",
    "for n in range(-10,10):\n",
    "    fxx = second_der.subs(a,n)\n",
    "    fxx_values = [fxx.subs(x,k/10).evalf() for k in range(-100,100)]\n",
    "    interval = Interval(min(fxx_values), max(fxx_values))\n",
    "    print([n, interval.contains(0),  interval])\n",
    "    if interval.contains(0)  :\n",
    "        count +=1\n",
    "count"
   ]
  },
  {
   "cell_type": "code",
   "execution_count": null,
   "metadata": {},
   "outputs": [],
   "source": []
  }
 ],
 "metadata": {
  "kernelspec": {
   "display_name": "Python 3",
   "language": "python",
   "name": "python3"
  },
  "language_info": {
   "codemirror_mode": {
    "name": "ipython",
    "version": 3
   },
   "file_extension": ".py",
   "mimetype": "text/x-python",
   "name": "python",
   "nbconvert_exporter": "python",
   "pygments_lexer": "ipython3",
   "version": "3.7.3"
  }
 },
 "nbformat": 4,
 "nbformat_minor": 2
}
