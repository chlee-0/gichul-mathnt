{
  "nbformat": 4,
  "nbformat_minor": 0,
  "metadata": {
    "kernelspec": {
      "display_name": "Python 3",
      "language": "python",
      "name": "python3"
    },
    "language_info": {
      "codemirror_mode": {
        "name": "ipython",
        "version": 3
      },
      "file_extension": ".py",
      "mimetype": "text/x-python",
      "name": "python",
      "nbconvert_exporter": "python",
      "pygments_lexer": "ipython3",
      "version": "3.7.3"
    },
    "colab": {
      "name": "2019-수학-가형-홀수-18.ipynb",
      "provenance": []
    }
  },
  "cells": [
    {
      "cell_type": "markdown",
      "metadata": {
        "id": "rKH-bd0UUIbc"
      },
      "source": [
        "# 2019-수학-가형-홀수-18"
      ]
    },
    {
      "cell_type": "markdown",
      "metadata": {
        "id": "acYUei8dUIbq"
      },
      "source": [
        "## 문제\n",
        "![2019-수학-가형-홀수-18](https://wiki.mathnt.net/img_auth.php/6/68/9fd8f3e1eaea58063d0be5a91f4103a1ad915c45.png)"
      ]
    },
    {
      "cell_type": "markdown",
      "metadata": {
        "id": "mOvVVhu-UIbs"
      },
      "source": [
        "## 풀이"
      ]
    },
    {
      "cell_type": "code",
      "metadata": {
        "id": "RukNFQ5jUIbs"
      },
      "source": [
        "from sympy import *\r\n",
        "r, theta, phi = symbols('r theta phi')"
      ],
      "execution_count": 1,
      "outputs": []
    },
    {
      "cell_type": "code",
      "metadata": {
        "id": "-zU9Nre5UwT6",
        "outputId": "ab4108df-bf5c-4efc-fc8e-2adcec91d5e1",
        "colab": {
          "base_uri": "https://localhost:8080/"
        }
      },
      "source": [
        "#phi  = ... in terms of theta\r\n",
        "eqn = theta+2*phi-pi/2\r\n",
        "solve(eqn, phi)"
      ],
      "execution_count": 2,
      "outputs": [
        {
          "output_type": "execute_result",
          "data": {
            "text/plain": [
              "[-theta/2 + pi/4]"
            ]
          },
          "metadata": {
            "tags": []
          },
          "execution_count": 2
        }
      ]
    },
    {
      "cell_type": "code",
      "metadata": {
        "id": "V3iUSbJ9VAsn",
        "outputId": "8d015649-2c7a-4a64-93a4-29ce6aa38887",
        "colab": {
          "base_uri": "https://localhost:8080/"
        }
      },
      "source": [
        "#r  = ... in terms of theta\r\n",
        "AC = r\r\n",
        "AB = 1\r\n",
        "solve(r*cos(theta) -  AB, r)"
      ],
      "execution_count": 3,
      "outputs": [
        {
          "output_type": "execute_result",
          "data": {
            "text/plain": [
              "[1/cos(theta)]"
            ]
          },
          "metadata": {
            "tags": []
          },
          "execution_count": 3
        }
      ]
    },
    {
      "cell_type": "code",
      "metadata": {
        "id": "RadGeleYYdj4",
        "outputId": "7afce47f-c0fa-4707-abbe-568443e62764",
        "colab": {
          "base_uri": "https://localhost:8080/"
        }
      },
      "source": [
        "BC = r*sin(theta)\r\n",
        "CD = BC/cos(phi)\r\n",
        "BD = CD*sin(phi)\r\n",
        "AD = AB-BD\r\n",
        "AE = AD\r\n",
        "S = Rational(1,2)*AD**2*theta\r\n",
        "ABC = Rational(1,2)*AB*BC\r\n",
        "ABE = Rational(1,2)*AB*AE*sin(theta)\r\n",
        "T = ABC-ABE\r\n",
        "expr = S**2/T\r\n",
        "expr = expr.subs({r:1/cos(theta), phi:-theta/2 + pi/4})\r\n",
        "limit(expr, theta, 0)"
      ],
      "execution_count": 4,
      "outputs": [
        {
          "output_type": "execute_result",
          "data": {
            "text/plain": [
              "1/2"
            ]
          },
          "metadata": {
            "tags": []
          },
          "execution_count": 4
        }
      ]
    },
    {
      "cell_type": "code",
      "metadata": {
        "id": "p_C2ECsuaORJ"
      },
      "source": [
        ""
      ],
      "execution_count": 4,
      "outputs": []
    }
  ]
}