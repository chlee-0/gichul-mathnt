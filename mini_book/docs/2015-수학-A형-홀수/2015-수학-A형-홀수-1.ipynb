{
  "nbformat": 4,
  "nbformat_minor": 0,
  "metadata": {
    "kernelspec": {
      "display_name": "Python 3",
      "language": "python",
      "name": "python3"
    },
    "language_info": {
      "codemirror_mode": {
        "name": "ipython",
        "version": 3
      },
      "file_extension": ".py",
      "mimetype": "text/x-python",
      "name": "python",
      "nbconvert_exporter": "python",
      "pygments_lexer": "ipython3",
      "version": "3.7.3"
    },
    "colab": {
      "name": "2015-수학-A형-홀수-1.ipynb",
      "provenance": []
    }
  },
  "cells": [
    {
      "cell_type": "markdown",
      "metadata": {
        "id": "vpPZyJIiB_Zp"
      },
      "source": [
        "# 2015-수학-A형-홀수-1"
      ]
    },
    {
      "cell_type": "markdown",
      "metadata": {
        "id": "38Bq-__BB_Z8"
      },
      "source": [
        "## 문제\n",
        "![2015-수학-A형-홀수-1](https://wiki.mathnt.net/img_auth.php/b/bc/1918fc6797dfb33d6c2f2774917a57c4e6278b14.png)"
      ]
    },
    {
      "cell_type": "markdown",
      "metadata": {
        "id": "URf1Kgc6B_Z9"
      },
      "source": [
        "## 풀이"
      ]
    },
    {
      "cell_type": "code",
      "metadata": {
        "id": "lfpPh9s2B_Z_",
        "outputId": "6720a077-867a-43b9-eb99-018ee9d1cec2",
        "colab": {
          "base_uri": "https://localhost:8080/"
        }
      },
      "source": [
        "5*8**(1/3)"
      ],
      "execution_count": 1,
      "outputs": [
        {
          "output_type": "execute_result",
          "data": {
            "text/plain": [
              "10.0"
            ]
          },
          "metadata": {
            "tags": []
          },
          "execution_count": 1
        }
      ]
    },
    {
      "cell_type": "code",
      "metadata": {
        "id": "xWvsC5J5CJ1T"
      },
      "source": [
        ""
      ],
      "execution_count": 1,
      "outputs": []
    }
  ]
}