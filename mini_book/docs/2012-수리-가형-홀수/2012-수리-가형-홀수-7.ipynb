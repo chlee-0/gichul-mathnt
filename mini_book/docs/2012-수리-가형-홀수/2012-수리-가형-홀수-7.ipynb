{
 "cells": [
  {
   "cell_type": "markdown",
   "metadata": {},
   "source": [
    "# 2012-수리-가형-홀수-7"
   ]
  },
  {
   "cell_type": "markdown",
   "metadata": {},
   "source": [
    "## 문제\n",
    "![local](../../_static/thumb/6ee98de4b9499879a1425419040b03f669d5cf79.png)"
   ]
  },  
  {
   "cell_type": "markdown",
   "metadata": {},
   "source": [
    "## 풀이"
   ]
  },  
  {
   "cell_type": "code",
   "execution_count": null,
   "metadata": {},
   "outputs": [],
   "source": []
  }
 ],
 "metadata": {
  "kernelspec": {
   "display_name": "Python 3",
   "language": "python",
   "name": "python3"
  },
  "language_info": {
   "codemirror_mode": {
    "name": "ipython",
    "version": 3
   },
   "file_extension": ".py",
   "mimetype": "text/x-python",
   "name": "python",
   "nbconvert_exporter": "python",
   "pygments_lexer": "ipython3",
   "version": "3.7.3"
  }
 },
 "nbformat": 4,
 "nbformat_minor": 2
}
